{
 "cells": [
  {
   "cell_type": "markdown",
   "id": "b5dd3d64",
   "metadata": {},
   "source": [
    "# Rotina da Gerencial de acessos"
   ]
  },
  {
   "cell_type": "markdown",
   "id": "837bbdbb",
   "metadata": {},
   "source": [
    "Essa rotina analisa os usuários que necessitam ser atualizados e/ou criados e gera um arquivo final para subir na Skore de forma manual.\n",
    "\n",
    "Bases de apoio:\n",
    "\n",
    "    - Base de Alunos \n",
    "    - Base de username e userid Skore\n",
    "    - Base manual da rotina da gerencial com times, cadastros, suportes e cargos\n",
    "    "
   ]
  },
  {
   "cell_type": "code",
   "execution_count": 1551,
   "id": "07c095ae",
   "metadata": {
    "ExecuteTime": {
     "end_time": "2023-03-09T12:21:14.072429Z",
     "start_time": "2023-03-09T12:21:11.533553Z"
    }
   },
   "outputs": [],
   "source": [
    "import pandas as pd\n",
    "import numpy as np\n",
    "import datetime as dt\n",
    "import datetime"
   ]
  },
  {
   "cell_type": "code",
   "execution_count": 1552,
   "id": "03fccb32",
   "metadata": {},
   "outputs": [],
   "source": [
    "#particoes = input(str('Gostaria de particionar o envio ? '))\n",
    "particoes = 's'"
   ]
  },
  {
   "cell_type": "code",
   "execution_count": 1553,
   "id": "455160f8",
   "metadata": {
    "ExecuteTime": {
     "end_time": "2023-03-09T12:21:14.087431Z",
     "start_time": "2023-03-09T12:21:14.075563Z"
    }
   },
   "outputs": [],
   "source": [
    "DT_TODAY = dt.datetime.today()\n",
    "DT_TODAY_MONTH_ANT = dt.datetime.today() - dt.timedelta(days = 20)\n",
    "TODAY = DT_TODAY.strftime('%Y%m%d')\n",
    "DT_YESTERDAY = DT_TODAY - dt.timedelta(days = 1)\n",
    "YESTERDAY = DT_YESTERDAY.strftime('%Y%m%d')\n",
    "MONTH = DT_TODAY.strftime('%Y%m')\n",
    "MONTH_INT = int(DT_TODAY.strftime('%m'))\n",
    "MONTH_STR = DT_TODAY.strftime('%m')\n",
    "MONTH_COMP = DT_TODAY.strftime('%m.%Y')\n",
    "MONTH_COMP_2 = DT_TODAY_MONTH_ANT.strftime('%m.%Y')\n",
    "DT_TODAY_BVBV60 = dt.datetime.today() + dt.timedelta(days = 60)\n"
   ]
  },
  {
   "cell_type": "code",
   "execution_count": 1554,
   "id": "5b926abf",
   "metadata": {},
   "outputs": [],
   "source": [
    "MATRICULA='2103510956'"
   ]
  },
  {
   "cell_type": "markdown",
   "id": "a42167c7",
   "metadata": {},
   "source": [
    "## Importando as bases"
   ]
  },
  {
   "cell_type": "code",
   "execution_count": 1555,
   "id": "519d8b00",
   "metadata": {
    "ExecuteTime": {
     "end_time": "2023-03-09T12:21:14.118430Z",
     "start_time": "2023-03-09T12:21:14.108270Z"
    }
   },
   "outputs": [],
   "source": [
    "df_roteirizacao = pd.read_csv('C:/Users/{}/Via Varejo S.A/MARILZA ALMEIDA TONIATO - fixed_data/roteirizacao.csv'.format(MATRICULA), sep = ';')\n",
    "df_base_fun = pd.read_excel('./input/{}/Alunos_{}.xlsx'.format(MONTH,TODAY))\n",
    "df_user_id = pd.read_csv('./input/{}/username_userid.csv'.format(MONTH), sep = ';',encoding = 'latin-1')\n",
    "df_meta_escala = pd.read_csv('C:/Users/{}/Via Varejo S.A/MARILZA ALMEIDA TONIATO - fixed_data/meta_escala_diaria.csv'.format(MATRICULA),encoding = 'latin-1')\n",
    "df_suporte = pd.read_excel('./Gerencial_Manual.xlsx', sheet_name = 'Suporte')\n",
    "df_cargos = pd.read_excel('./Gerencial_Manual.xlsx', sheet_name = 'Cargos')\n",
    "df_times_personalizados = pd.read_excel('./Gerencial_Manual.xlsx', sheet_name = 'Times_personalizados')\n",
    "df_cadastro_manual = pd.read_excel('./Gerencial_Manual.xlsx', sheet_name = 'Cadastro_manual')"
   ]
  },
  {
   "cell_type": "code",
   "execution_count": 1556,
   "id": "07db3369",
   "metadata": {
    "ExecuteTime": {
     "end_time": "2023-03-09T12:21:24.483269Z",
     "start_time": "2023-03-09T12:21:24.476059Z"
    }
   },
   "outputs": [],
   "source": [
    "df_base_fun.to_excel('C:/Users/{}/Via Varejo S.A/MARILZA ALMEIDA TONIATO - fixed_data/alunos.xlsx'.format(MATRICULA), index = False)"
   ]
  },
  {
   "cell_type": "code",
   "execution_count": 1557,
   "id": "bfd39e88",
   "metadata": {
    "ExecuteTime": {
     "end_time": "2023-03-09T12:21:41.643927Z",
     "start_time": "2023-03-09T12:21:24.851777Z"
    }
   },
   "outputs": [],
   "source": [
    "#Teste Marilza\n",
    "\n",
    "#df_roteirizacao = pd.read_csv('C:/Users/2102709830/OneDrive - Via Varejo S.A/Área de Trabalho/Evva2.0/evva2.0/fixed_data/roteirizacao.csv', sep = ';')\n",
    "#df_base_fun = pd.read_excel('./input/{}/Alunos_{}.xlsx'.format(MONTH,TODAY))\n",
    "#df_user_id = pd.read_csv('./input/{}/username_userid.csv'.format(MONTH), sep = ';',encoding = 'latin-1')\n",
    "#df_meta_escala = pd.read_csv('C:/Users/2102709830/OneDrive - Via Varejo S.A/Área de Trabalho/Evva2.0/evva2.0/fixed_data/meta_escala_diaria.csv',encoding = 'latin-1')\n",
    "#df_suporte = pd.read_excel('./Gerencial_Manual.xlsx', sheet_name = 'Suporte')\n",
    "#df_cargos = pd.read_excel('./Gerencial_Manual.xlsx', sheet_name = 'Cargos')\n",
    "#df_times_personalizados = pd.read_excel('./Gerencial_Manual.xlsx', sheet_name = 'Times_personalizados')\n",
    "#df_cadastro_manual = pd.read_excel('./Gerencial_Manual.xlsx', sheet_name = 'Cadastro_manual')"
   ]
  },
  {
   "cell_type": "markdown",
   "id": "69125b2d",
   "metadata": {},
   "source": [
    "## Tratamento base de Funcionarios"
   ]
  },
  {
   "cell_type": "code",
   "execution_count": 1558,
   "id": "729a9b18",
   "metadata": {
    "ExecuteTime": {
     "end_time": "2023-03-09T12:21:41.705865Z",
     "start_time": "2023-03-09T12:21:41.646863Z"
    }
   },
   "outputs": [],
   "source": [
    "#Filtrando somente terceiros 77 e colaboradores via [21]\n",
    "lista_empresa = [21,77]\n",
    "df_funcionarios = df_base_fun.loc[df_base_fun['Código Empresa'].isin(lista_empresa)].copy()\n",
    "#Limpando a bandeira\n",
    "df_funcionarios['Bandeira'] = df_funcionarios['Bandeira'].apply(lambda x: x.split(\"  \")[0])"
   ]
  },
  {
   "cell_type": "code",
   "execution_count": 1559,
   "id": "bbbae5dc",
   "metadata": {
    "ExecuteTime": {
     "end_time": "2023-03-09T12:21:41.753705Z",
     "start_time": "2023-03-09T12:21:41.711878Z"
    }
   },
   "outputs": [],
   "source": [
    "#substituir os nomes das bandeiras para o padrão\n",
    "depara_bandeira = {\n",
    "    'CASASBAHIA':'CB',\n",
    "    'PONTO':'PF',\n",
    "    'PONTOFRIO':'PF',\n",
    "    'CORPORATIVO':'CORP',\n",
    "    'CASAS BAHIA': 'CB'\n",
    "}\n",
    "df_funcionarios = df_funcionarios.replace({\"Bandeira\": depara_bandeira})"
   ]
  },
  {
   "cell_type": "code",
   "execution_count": 1560,
   "id": "f2ec26c2",
   "metadata": {
    "ExecuteTime": {
     "end_time": "2023-03-09T12:21:41.908831Z",
     "start_time": "2023-03-09T12:21:41.758686Z"
    }
   },
   "outputs": [],
   "source": [
    "#Transformando as colunas em string para melhor trabalhabilidade\n",
    "colunas = ['Código Empresa', 'Código Estabelecimento', 'Matrícula']\n",
    "\n",
    "for coluna in colunas:\n",
    "    df_funcionarios[coluna] = df_funcionarios[coluna].astype(str)\n",
    "    df_funcionarios[coluna] = df_funcionarios[coluna].apply(lambda x: x.replace('.0', ''))"
   ]
  },
  {
   "cell_type": "code",
   "execution_count": 1561,
   "id": "4ede8b3a",
   "metadata": {
    "ExecuteTime": {
     "end_time": "2023-03-09T12:21:41.940846Z",
     "start_time": "2023-03-09T12:21:41.910687Z"
    }
   },
   "outputs": [],
   "source": [
    "#Ajuntando o nome\n",
    "df_funcionarios['Nome do aluno'] = df_funcionarios['Nome do aluno'] + ' ' + df_funcionarios['Sobrenome do aluno'] "
   ]
  },
  {
   "cell_type": "markdown",
   "id": "5a0f7a2a",
   "metadata": {},
   "source": [
    "### Categorias principais"
   ]
  },
  {
   "cell_type": "code",
   "execution_count": 1562,
   "id": "737aa91f",
   "metadata": {
    "ExecuteTime": {
     "end_time": "2023-03-09T12:21:41.970868Z",
     "start_time": "2023-03-09T12:21:41.944761Z"
    }
   },
   "outputs": [],
   "source": [
    "## Trazendo as colunas da meta escala para usar\n",
    "df_vendedores = df_meta_escala[['CD_FUN','SUB_CAT_PRINCIPAL','CD_FIL']].copy()\n",
    "df_vendedores['SUB_CAT_PRINCIPAL'] = df_vendedores['SUB_CAT_PRINCIPAL'].apply(lambda x: x.title())"
   ]
  },
  {
   "cell_type": "code",
   "execution_count": 1563,
   "id": "79060a9f",
   "metadata": {
    "ExecuteTime": {
     "end_time": "2023-03-09T12:21:42.177140Z",
     "start_time": "2023-03-09T12:21:41.975762Z"
    }
   },
   "outputs": [],
   "source": [
    "#Padronizando as colunas para o merge\n",
    "df_vendedores = df_vendedores.rename(columns = {'CD_FUN':'matricula'})\n",
    "df_vendedores['matricula'] = df_vendedores['matricula'].astype(str)\n",
    "df_funcionarios = df_funcionarios.rename(columns = {'Matrícula':'matricula'})\n",
    "df_funcionarios['matricula'] = df_funcionarios['matricula'].astype(str)\n",
    "\n",
    "# Merge para trazer a filial dos vendedores e nome\n",
    "df_base_fun = df_funcionarios.merge(df_vendedores, on = 'matricula', how = 'left')"
   ]
  },
  {
   "cell_type": "markdown",
   "id": "97b84000",
   "metadata": {},
   "source": [
    "### Filiais"
   ]
  },
  {
   "cell_type": "markdown",
   "id": "ca504ea2",
   "metadata": {},
   "source": [
    "#### Vendedores"
   ]
  },
  {
   "cell_type": "code",
   "execution_count": 1564,
   "id": "fce27157",
   "metadata": {
    "ExecuteTime": {
     "end_time": "2023-03-09T12:21:42.209035Z",
     "start_time": "2023-03-09T12:21:42.179116Z"
    }
   },
   "outputs": [],
   "source": [
    "# Trazendo as informações da coluna de filial por funcionario para uma só coluna\n",
    "#Priorizando a filial do meta escala, caso o colaborador não tenha filial cadastrada, será considerada a filial de cadastro\n",
    "df_base_fun['Código Estabelecimento'] = np.where(df_base_fun['CD_FIL'].isnull(), df_base_fun['Código Estabelecimento'], df_base_fun['CD_FIL'])"
   ]
  },
  {
   "cell_type": "markdown",
   "id": "8aa9e474",
   "metadata": {},
   "source": [
    "#### Gerente"
   ]
  },
  {
   "cell_type": "code",
   "execution_count": 1565,
   "id": "55327c02",
   "metadata": {
    "ExecuteTime": {
     "end_time": "2023-03-09T12:21:42.224407Z",
     "start_time": "2023-03-09T12:21:42.212041Z"
    }
   },
   "outputs": [],
   "source": [
    "## Trazendo as colunas para usar\n",
    "df_gerente = df_roteirizacao[['CD_FIL','CD_REG','CD_DIR','CD_FUN_GER','NOME_GERENTE_LOJA']]"
   ]
  },
  {
   "cell_type": "code",
   "execution_count": 1566,
   "id": "4fa3963a",
   "metadata": {
    "ExecuteTime": {
     "end_time": "2023-03-09T12:21:42.239403Z",
     "start_time": "2023-03-09T12:21:42.229405Z"
    }
   },
   "outputs": [],
   "source": [
    "#Alterando nome da coluna de matricula para \"matricula\"\n",
    "df_gerente = df_gerente.rename(columns = {'CD_FUN_GER':'matricula'})\n",
    "df_gerente['matricula'] = df_gerente['matricula'].astype(str)"
   ]
  },
  {
   "cell_type": "code",
   "execution_count": 1567,
   "id": "90c98761",
   "metadata": {
    "ExecuteTime": {
     "end_time": "2023-03-09T12:21:42.315538Z",
     "start_time": "2023-03-09T12:21:42.241672Z"
    }
   },
   "outputs": [],
   "source": [
    "##Merge para trazer a filial dos vendedores e nome\n",
    "df_base_fun = df_base_fun.merge(df_gerente, on = 'matricula', how = 'left')"
   ]
  },
  {
   "cell_type": "code",
   "execution_count": 1568,
   "id": "473c0433",
   "metadata": {
    "ExecuteTime": {
     "end_time": "2023-03-09T12:21:42.345959Z",
     "start_time": "2023-03-09T12:21:42.318587Z"
    }
   },
   "outputs": [],
   "source": [
    "## Trazendo as informações da coluna de filial por funcionario para uma só coluna\n",
    "df_base_fun['Código Estabelecimento'] = np.where(df_base_fun['CD_FIL_y'].isnull(), df_base_fun['Código Estabelecimento'], df_base_fun['CD_FIL_y'])"
   ]
  },
  {
   "cell_type": "code",
   "execution_count": 1569,
   "id": "b9e9155f",
   "metadata": {
    "ExecuteTime": {
     "end_time": "2023-03-09T12:21:42.406968Z",
     "start_time": "2023-03-09T12:21:42.349111Z"
    }
   },
   "outputs": [],
   "source": [
    "## Trazer as colunas para trabalhar\n",
    "df_base_fun = df_base_fun[['Código Empresa','Login do aluno','matricula','Nome do aluno','Descrição Cargo','Nascimento','CPF','Data de admissão','Situação do Colaborador','Código Estabelecimento','Bandeira','SUB_CAT_PRINCIPAL']]"
   ]
  },
  {
   "cell_type": "markdown",
   "id": "d157c5ae",
   "metadata": {},
   "source": [
    "#### CAL"
   ]
  },
  {
   "cell_type": "code",
   "execution_count": 1570,
   "id": "f37a577b",
   "metadata": {
    "ExecuteTime": {
     "end_time": "2023-03-09T12:21:42.421859Z",
     "start_time": "2023-03-09T12:21:42.409965Z"
    }
   },
   "outputs": [],
   "source": [
    "## Trazendo as colunas para usar\n",
    "df_cal = df_roteirizacao[['CD_FIL','CD_REG','CD_DIR','CD_FUN_CAL','NOME_CAL']]"
   ]
  },
  {
   "cell_type": "code",
   "execution_count": 1571,
   "id": "5e46f59b",
   "metadata": {
    "ExecuteTime": {
     "end_time": "2023-03-09T12:21:42.438485Z",
     "start_time": "2023-03-09T12:21:42.423874Z"
    }
   },
   "outputs": [],
   "source": [
    "#Alterando nome da coluna de matricula para \"matricula\"\n",
    "df_cal = df_cal.rename(columns = {'CD_FUN_CAL':'matricula'})\n",
    "df_cal['matricula'] = df_cal['matricula'].astype(str)"
   ]
  },
  {
   "cell_type": "code",
   "execution_count": 1572,
   "id": "9e0b99eb",
   "metadata": {
    "ExecuteTime": {
     "end_time": "2023-03-09T12:21:42.530947Z",
     "start_time": "2023-03-09T12:21:42.440874Z"
    }
   },
   "outputs": [],
   "source": [
    "##Merge para trazer a filial das CALs \n",
    "df_base_fun = df_base_fun.merge(df_cal, on = 'matricula', how = 'left')"
   ]
  },
  {
   "cell_type": "code",
   "execution_count": 1573,
   "id": "255d8582",
   "metadata": {
    "ExecuteTime": {
     "end_time": "2023-03-09T12:21:42.562039Z",
     "start_time": "2023-03-09T12:21:42.535955Z"
    }
   },
   "outputs": [],
   "source": [
    "## Trazendo as informações da coluna de filial por funcionario para uma só coluna\n",
    "df_base_fun['Código Estabelecimento'] = np.where(df_base_fun['CD_FIL'].isnull(), df_base_fun['Código Estabelecimento'], df_base_fun['CD_FIL'])"
   ]
  },
  {
   "cell_type": "code",
   "execution_count": 1574,
   "id": "e3e269b3",
   "metadata": {
    "ExecuteTime": {
     "end_time": "2023-03-09T12:21:42.624659Z",
     "start_time": "2023-03-09T12:21:42.564597Z"
    }
   },
   "outputs": [],
   "source": [
    "## Trazer as colunas para trabalhar\n",
    "df_base_fun = df_base_fun[['Código Empresa','Login do aluno','matricula','Nome do aluno','Descrição Cargo','Nascimento','CPF','Data de admissão','Situação do Colaborador','Código Estabelecimento','Bandeira','SUB_CAT_PRINCIPAL']]"
   ]
  },
  {
   "cell_type": "markdown",
   "id": "8d13b127",
   "metadata": {},
   "source": [
    "### Transformando dados"
   ]
  },
  {
   "cell_type": "code",
   "execution_count": 1575,
   "id": "137e30ad",
   "metadata": {
    "ExecuteTime": {
     "end_time": "2023-03-09T12:21:42.655362Z",
     "start_time": "2023-03-09T12:21:42.626663Z"
    }
   },
   "outputs": [],
   "source": [
    "## Renomemando colunas\n",
    "df_Oficial_fun = df_base_fun.rename(columns = {'Código Empresa':'Empresa',\n",
    "                                               'Login do aluno':'username',\n",
    "                                               'matricula':'Matrícula',\n",
    "                                               'Nome do aluno':'Nome',\n",
    "                                               'Descrição Cargo':'Cargo',\n",
    "                                               'Nascimento':'Data_Nascimento',\n",
    "                                               'CPF':'CPF',\n",
    "                                               'Data de admissão':'Data_de_admissão',\n",
    "                                               'Situação do Colaborador':'Status',\n",
    "                                               'Código Estabelecimento':'Filial',\n",
    "                                               'Bandeira':'Bandeira',\n",
    "                                               'SUB_CAT_PRINCIPAL':'Categoria'})"
   ]
  },
  {
   "cell_type": "code",
   "execution_count": 1576,
   "id": "bf0a9790",
   "metadata": {
    "ExecuteTime": {
     "end_time": "2023-03-09T12:21:42.732661Z",
     "start_time": "2023-03-09T12:21:42.657666Z"
    }
   },
   "outputs": [],
   "source": [
    "##Ajustando CPF\n",
    "df_Oficial_fun['CPF'] = df_Oficial_fun['CPF'].astype('str')\n",
    "df_Oficial_fun['CPF'] = df_Oficial_fun['CPF'].apply(lambda x: x.replace('.0', ''))"
   ]
  },
  {
   "cell_type": "code",
   "execution_count": 1577,
   "id": "3325910e",
   "metadata": {},
   "outputs": [],
   "source": [
    "df_Oficial_fun['username'] = df_Oficial_fun['username'].astype('string')"
   ]
  },
  {
   "cell_type": "code",
   "execution_count": 1578,
   "id": "b093a5e0",
   "metadata": {
    "ExecuteTime": {
     "end_time": "2023-03-09T12:21:42.872828Z",
     "start_time": "2023-03-09T12:21:42.734688Z"
    }
   },
   "outputs": [],
   "source": [
    "##Merge para trazer user_id\n",
    "df_Oficial_fun = df_Oficial_fun.merge(df_user_id, on = 'username', how='left')"
   ]
  },
  {
   "cell_type": "code",
   "execution_count": 1579,
   "id": "eccf186f",
   "metadata": {
    "ExecuteTime": {
     "end_time": "2023-03-09T12:21:42.888452Z",
     "start_time": "2023-03-09T12:21:42.876271Z"
    }
   },
   "outputs": [],
   "source": [
    "## Trazendo as colunas para incluir na \"Oficial_fun\" a diretoria e regional de cada filial\n",
    "df_roteirizacao = df_roteirizacao[['CD_FIL','CD_REG','CD_DIR']]\n",
    "##Alterando nomenclatura da coluna CD_Fil para trazer o merge\n",
    "df_roteirizacao = df_roteirizacao.rename(columns = {'CD_FIL':'Filial',\n",
    "                                                    'CD_REG':'Regional',\n",
    "                                                    'CD_DIR':'Diretoria'})"
   ]
  },
  {
   "cell_type": "code",
   "execution_count": 1580,
   "id": "4929173c",
   "metadata": {
    "ExecuteTime": {
     "end_time": "2023-03-09T12:21:42.935774Z",
     "start_time": "2023-03-09T12:21:42.891708Z"
    }
   },
   "outputs": [],
   "source": [
    "df_Oficial_fun['Filial'] = df_Oficial_fun['Filial'].astype('str')\n",
    "df_Oficial_fun['Filial'] = df_Oficial_fun['Filial'].apply(lambda x: x.replace('.0', ''))\n",
    "df_roteirizacao['Filial'] = df_roteirizacao['Filial'].astype('str')\n",
    "df_roteirizacao['Filial'] = df_roteirizacao['Filial'].apply(lambda x: x.replace('.0', ''))"
   ]
  },
  {
   "cell_type": "code",
   "execution_count": 1581,
   "id": "0737f4d7",
   "metadata": {
    "ExecuteTime": {
     "end_time": "2023-03-09T12:21:42.983715Z",
     "start_time": "2023-03-09T12:21:42.937707Z"
    }
   },
   "outputs": [],
   "source": [
    "##Meger para trazer os dados regionais\n",
    "df_Oficial_fun = df_Oficial_fun.merge(df_roteirizacao, on = 'Filial', how = 'left')"
   ]
  },
  {
   "cell_type": "code",
   "execution_count": 1582,
   "id": "7296f873",
   "metadata": {
    "ExecuteTime": {
     "end_time": "2023-03-09T12:21:43.155843Z",
     "start_time": "2023-03-09T12:21:42.989169Z"
    }
   },
   "outputs": [],
   "source": [
    "#Substituindo NAN para 0\n",
    "df_Oficial_fun = df_Oficial_fun.replace(np.nan,'-')"
   ]
  },
  {
   "cell_type": "code",
   "execution_count": 1583,
   "id": "230ff5d2",
   "metadata": {
    "ExecuteTime": {
     "end_time": "2023-03-09T12:21:43.247848Z",
     "start_time": "2023-03-09T12:21:43.158848Z"
    }
   },
   "outputs": [],
   "source": [
    "df_Oficial_fun = df_Oficial_fun[['Empresa','username','id','Matrícula','Nome','Cargo','Filial','Regional','Diretoria','Data_Nascimento','CPF','Data_de_admissão','Status','Bandeira','Categoria']]"
   ]
  },
  {
   "cell_type": "code",
   "execution_count": 1584,
   "id": "18feaa55",
   "metadata": {
    "ExecuteTime": {
     "end_time": "2023-03-09T12:21:43.292847Z",
     "start_time": "2023-03-09T12:21:43.251852Z"
    }
   },
   "outputs": [],
   "source": [
    "df_Oficial_fun = df_Oficial_fun.rename(columns = {'id':'User_id'})"
   ]
  },
  {
   "cell_type": "code",
   "execution_count": 1585,
   "id": "0ef19e8a",
   "metadata": {
    "ExecuteTime": {
     "end_time": "2023-03-09T12:21:43.448123Z",
     "start_time": "2023-03-09T12:21:43.306074Z"
    }
   },
   "outputs": [],
   "source": [
    "##Ajustando (O.0)\n",
    "df_Oficial_fun['User_id'] = df_Oficial_fun['User_id'].astype('str')\n",
    "df_Oficial_fun['User_id'] = df_Oficial_fun['User_id'].apply(lambda x: x.replace('.0', ''))\n",
    "df_Oficial_fun['Diretoria'] = df_Oficial_fun['Diretoria'].astype('str')\n",
    "df_Oficial_fun['Diretoria'] = df_Oficial_fun['Diretoria'].apply(lambda x: x.replace('.0', ''))\n",
    "df_Oficial_fun['Regional'] = df_Oficial_fun['Regional'].astype('str')\n",
    "df_Oficial_fun['Regional'] = df_Oficial_fun['Regional'].apply(lambda x: x.replace('.0', ''))"
   ]
  },
  {
   "cell_type": "code",
   "execution_count": 1586,
   "id": "482078dd",
   "metadata": {
    "ExecuteTime": {
     "end_time": "2023-03-09T12:21:43.510114Z",
     "start_time": "2023-03-09T12:21:43.453218Z"
    }
   },
   "outputs": [
    {
     "data": {
      "text/html": [
       "<div>\n",
       "<style scoped>\n",
       "    .dataframe tbody tr th:only-of-type {\n",
       "        vertical-align: middle;\n",
       "    }\n",
       "\n",
       "    .dataframe tbody tr th {\n",
       "        vertical-align: top;\n",
       "    }\n",
       "\n",
       "    .dataframe thead th {\n",
       "        text-align: right;\n",
       "    }\n",
       "</style>\n",
       "<table border=\"1\" class=\"dataframe\">\n",
       "  <thead>\n",
       "    <tr style=\"text-align: right;\">\n",
       "      <th></th>\n",
       "      <th>Empresa</th>\n",
       "      <th>username</th>\n",
       "      <th>User_id</th>\n",
       "      <th>Matrícula</th>\n",
       "      <th>Nome</th>\n",
       "      <th>Cargo</th>\n",
       "      <th>Filial</th>\n",
       "      <th>Regional</th>\n",
       "      <th>Diretoria</th>\n",
       "      <th>Data_Nascimento</th>\n",
       "      <th>CPF</th>\n",
       "      <th>Data_de_admissão</th>\n",
       "      <th>Status</th>\n",
       "      <th>Bandeira</th>\n",
       "      <th>Categoria</th>\n",
       "    </tr>\n",
       "  </thead>\n",
       "  <tbody>\n",
       "    <tr>\n",
       "      <th>0</th>\n",
       "      <td>21</td>\n",
       "      <td>2104482816</td>\n",
       "      <td>953877</td>\n",
       "      <td>4482816</td>\n",
       "      <td>ALINE ZUVERANA GOMES</td>\n",
       "      <td>ASSESSOR DE VENDAS</td>\n",
       "      <td>2192</td>\n",
       "      <td>414</td>\n",
       "      <td>4</td>\n",
       "      <td>10.08.1987</td>\n",
       "      <td>7716689614</td>\n",
       "      <td>16.03.2020</td>\n",
       "      <td>ATIVO</td>\n",
       "      <td>CB</td>\n",
       "      <td>Tecnologia</td>\n",
       "    </tr>\n",
       "    <tr>\n",
       "      <th>1</th>\n",
       "      <td>21</td>\n",
       "      <td>2160010026</td>\n",
       "      <td>2260127</td>\n",
       "      <td>60010026</td>\n",
       "      <td>OSMAR ZUMPANO NETO</td>\n",
       "      <td>BOMBEIRO</td>\n",
       "      <td>650</td>\n",
       "      <td>-</td>\n",
       "      <td>-</td>\n",
       "      <td>24.10.1990</td>\n",
       "      <td>39241369809</td>\n",
       "      <td>02.05.2022</td>\n",
       "      <td>ATIVO</td>\n",
       "      <td>CORP</td>\n",
       "      <td>-</td>\n",
       "    </tr>\n",
       "  </tbody>\n",
       "</table>\n",
       "</div>"
      ],
      "text/plain": [
       "  Empresa    username  User_id Matrícula                  Nome  \\\n",
       "0      21  2104482816   953877   4482816  ALINE ZUVERANA GOMES   \n",
       "1      21  2160010026  2260127  60010026    OSMAR ZUMPANO NETO   \n",
       "\n",
       "                Cargo Filial Regional Diretoria Data_Nascimento          CPF  \\\n",
       "0  ASSESSOR DE VENDAS   2192      414         4      10.08.1987   7716689614   \n",
       "1            BOMBEIRO    650        -         -      24.10.1990  39241369809   \n",
       "\n",
       "  Data_de_admissão Status Bandeira   Categoria  \n",
       "0       16.03.2020  ATIVO       CB  Tecnologia  \n",
       "1       02.05.2022  ATIVO     CORP           -  "
      ]
     },
     "execution_count": 1586,
     "metadata": {},
     "output_type": "execute_result"
    }
   ],
   "source": [
    "df_Oficial_fun.head(2)"
   ]
  },
  {
   "cell_type": "code",
   "execution_count": 1587,
   "id": "a94b1f30",
   "metadata": {},
   "outputs": [
    {
     "name": "stderr",
     "output_type": "stream",
     "text": [
      "C:\\Users\\2103510956\\AppData\\Local\\Temp\\ipykernel_5160\\3086712449.py:1: FutureWarning: The default value of regex will change from True to False in a future version. In addition, single character regular expressions will *not* be treated as literal strings when regex=True.\n",
      "  df_Oficial_fun['Data_de_admissão'] = df_Oficial_fun['Data_de_admissão'].str.replace('.','/')\n"
     ]
    }
   ],
   "source": [
    "df_Oficial_fun['Data_de_admissão'] = df_Oficial_fun['Data_de_admissão'].str.replace('.','/')"
   ]
  },
  {
   "cell_type": "code",
   "execution_count": 1588,
   "id": "20eb9faf",
   "metadata": {},
   "outputs": [],
   "source": [
    "df_Oficial_fun['Data_de_admissão']= pd.to_datetime(df_Oficial_fun['Data_de_admissão'].str.strip(), format='%d/%m/%Y')"
   ]
  },
  {
   "cell_type": "markdown",
   "id": "8c319bc1",
   "metadata": {},
   "source": [
    "## Criando Gerencial de Acessos"
   ]
  },
  {
   "cell_type": "code",
   "execution_count": 1589,
   "id": "57c082b1",
   "metadata": {
    "ExecuteTime": {
     "end_time": "2023-03-09T12:21:43.541114Z",
     "start_time": "2023-03-09T12:21:43.514119Z"
    }
   },
   "outputs": [],
   "source": [
    "df_Gerencial = df_Oficial_fun.copy()"
   ]
  },
  {
   "cell_type": "code",
   "execution_count": 1590,
   "id": "c359975e",
   "metadata": {
    "ExecuteTime": {
     "end_time": "2023-03-09T12:21:43.572119Z",
     "start_time": "2023-03-09T12:21:43.545773Z"
    }
   },
   "outputs": [],
   "source": [
    "df_Gerencial['Cargo'] = df_Gerencial['Cargo'].apply(lambda x: x.split(\"  \")[0])"
   ]
  },
  {
   "cell_type": "code",
   "execution_count": 1591,
   "id": "17be0137",
   "metadata": {
    "ExecuteTime": {
     "end_time": "2023-03-09T12:21:43.648867Z",
     "start_time": "2023-03-09T12:21:43.575119Z"
    }
   },
   "outputs": [],
   "source": [
    "## Separando apenas corporativo e operacoes de loja\n",
    "df_Gerencial_operacoes = df_Gerencial[df_Gerencial['Cargo'].isin(df_cargos['Cargo'])]\n",
    "corp = ['1580', '650']\n",
    "df_Gerencial_corp = df_Gerencial[df_Gerencial['Filial'].isin(corp)]\n",
    "\n",
    "df_Gerencial = pd.concat([df_Gerencial_operacoes, df_Gerencial_corp], ignore_index=True, axis = 0)"
   ]
  },
  {
   "cell_type": "code",
   "execution_count": 1592,
   "id": "77d77e06",
   "metadata": {
    "ExecuteTime": {
     "end_time": "2023-03-09T12:21:43.724464Z",
     "start_time": "2023-03-09T12:21:43.652120Z"
    }
   },
   "outputs": [],
   "source": [
    "#Retirando o np.nan\n",
    "\n",
    "df_Gerencial_final = df_Gerencial.replace(np.nan, '')"
   ]
  },
  {
   "cell_type": "code",
   "execution_count": 1593,
   "id": "cfb8e6c4",
   "metadata": {
    "ExecuteTime": {
     "end_time": "2023-03-09T12:21:43.802177Z",
     "start_time": "2023-03-09T12:21:43.726943Z"
    }
   },
   "outputs": [],
   "source": [
    "#Trazendo a base do suporte para ações na base\n",
    "df_suporte = df_suporte.rename(columns = {'Matrícula': 'username'})\n",
    "df_suporte = df_suporte.replace(\"Atualizar\", \"OVERWRITE\")\n",
    "df_suporte = df_suporte.replace(\"Cadastrar\", \"CREATE\")\n",
    "df_suporte = df_suporte[df_suporte['Status'].isnull()]\n",
    "df_suporte = df_suporte.drop(columns='Status')\n",
    "df_suporte['username'] = df_suporte['username'].astype(str)\n",
    "df_suporte['username'] = df_suporte['username'].apply(lambda x: x.replace('.0', ''))\n",
    "df_Gerencial_final = df_Gerencial_final.merge(df_suporte, on = 'username', how = 'left')\n",
    "df_Gerencial_final['action'] = 'NO'\n",
    "df_Gerencial_final['action'] =  np.where(df_Gerencial_final['Ação'].isnull(), df_Gerencial_final['action'], df_Gerencial_final['Ação'])"
   ]
  },
  {
   "cell_type": "code",
   "execution_count": 1594,
   "id": "8cdc0d2f",
   "metadata": {},
   "outputs": [
    {
     "data": {
      "text/plain": [
       "(33690, 17)"
      ]
     },
     "execution_count": 1594,
     "metadata": {},
     "output_type": "execute_result"
    }
   ],
   "source": [
    "df_Gerencial_final.shape"
   ]
  },
  {
   "cell_type": "code",
   "execution_count": 1595,
   "id": "fe7f2de5",
   "metadata": {
    "ExecuteTime": {
     "end_time": "2023-03-09T12:21:43.833167Z",
     "start_time": "2023-03-09T12:21:43.805175Z"
    }
   },
   "outputs": [],
   "source": [
    "#Retirando os espaços vazios do Status\n",
    "df_Gerencial_final['Status'] = df_Gerencial_final['Status'].apply(lambda x: x.split(\"  \")[0])"
   ]
  },
  {
   "cell_type": "code",
   "execution_count": 1596,
   "id": "c4c87fdf",
   "metadata": {},
   "outputs": [],
   "source": [
    "#df_Gerencial_final.to_excel('./df_Gerencial_final.xlsx', index = False)"
   ]
  },
  {
   "cell_type": "code",
   "execution_count": 1597,
   "id": "68403477",
   "metadata": {
    "ExecuteTime": {
     "end_time": "2023-03-09T12:21:43.865234Z",
     "start_time": "2023-03-09T12:21:43.836163Z"
    }
   },
   "outputs": [],
   "source": [
    "## Atualizar o action para os users CREATE\n",
    "df_Gerencial_final['action'] = df_Gerencial_final['User_id'].apply(lambda x: 'CREATE' if x == '-' else 'NO')\n",
    "df_Gerencial_final['action'] = np.where((df_Gerencial_final['action'] == \"NO\") & (df_Gerencial_final['Ação'] == \"OVERWRITE\"), 'OVERWRITE',df_Gerencial_final['action'])"
   ]
  },
  {
   "cell_type": "code",
   "execution_count": 1598,
   "id": "c0641755",
   "metadata": {
    "ExecuteTime": {
     "end_time": "2023-03-09T12:21:43.881256Z",
     "start_time": "2023-03-09T12:21:43.868166Z"
    }
   },
   "outputs": [],
   "source": [
    "#Incluindo role\n",
    "df_Gerencial_final['role'] = 'student'"
   ]
  },
  {
   "cell_type": "code",
   "execution_count": 1599,
   "id": "9936dc8a",
   "metadata": {
    "ExecuteTime": {
     "end_time": "2023-03-09T12:21:43.959165Z",
     "start_time": "2023-03-09T12:21:43.885167Z"
    }
   },
   "outputs": [],
   "source": [
    "df_Gerencial_final = df_Gerencial_final.drop(columns = \"Ação\")"
   ]
  },
  {
   "cell_type": "code",
   "execution_count": 1600,
   "id": "4acadead",
   "metadata": {
    "ExecuteTime": {
     "end_time": "2023-03-09T12:21:43.975169Z",
     "start_time": "2023-03-09T12:21:43.962167Z"
    }
   },
   "outputs": [],
   "source": [
    "df_de_para = df_cargos.copy()"
   ]
  },
  {
   "cell_type": "code",
   "execution_count": 1601,
   "id": "8f44b910",
   "metadata": {
    "ExecuteTime": {
     "end_time": "2023-03-09T12:21:43.990427Z",
     "start_time": "2023-03-09T12:21:43.977170Z"
    }
   },
   "outputs": [
    {
     "data": {
      "text/html": [
       "<div>\n",
       "<style scoped>\n",
       "    .dataframe tbody tr th:only-of-type {\n",
       "        vertical-align: middle;\n",
       "    }\n",
       "\n",
       "    .dataframe tbody tr th {\n",
       "        vertical-align: top;\n",
       "    }\n",
       "\n",
       "    .dataframe thead th {\n",
       "        text-align: right;\n",
       "    }\n",
       "</style>\n",
       "<table border=\"1\" class=\"dataframe\">\n",
       "  <thead>\n",
       "    <tr style=\"text-align: right;\">\n",
       "      <th></th>\n",
       "      <th>Cargo</th>\n",
       "      <th>TIME_GALERIA</th>\n",
       "    </tr>\n",
       "  </thead>\n",
       "  <tbody>\n",
       "    <tr>\n",
       "      <th>0</th>\n",
       "      <td>ASSIST DIRETORIA</td>\n",
       "      <td>Staff Diretoria</td>\n",
       "    </tr>\n",
       "    <tr>\n",
       "      <th>1</th>\n",
       "      <td>APRENDIZ ADMINISTRATIVO</td>\n",
       "      <td>Jovem Aprendiz</td>\n",
       "    </tr>\n",
       "    <tr>\n",
       "      <th>2</th>\n",
       "      <td>APRENDIZ ASSIST ADMINISTRATIVO</td>\n",
       "      <td>Jovem Aprendiz</td>\n",
       "    </tr>\n",
       "    <tr>\n",
       "      <th>3</th>\n",
       "      <td>APRENDIZ AUX ADMINISTRATIVO</td>\n",
       "      <td>Jovem Aprendiz</td>\n",
       "    </tr>\n",
       "    <tr>\n",
       "      <th>4</th>\n",
       "      <td>APRENDIZ VEND COM VAREJISTA I</td>\n",
       "      <td>Jovem Aprendiz</td>\n",
       "    </tr>\n",
       "  </tbody>\n",
       "</table>\n",
       "</div>"
      ],
      "text/plain": [
       "                            Cargo     TIME_GALERIA\n",
       "0                ASSIST DIRETORIA  Staff Diretoria\n",
       "1         APRENDIZ ADMINISTRATIVO   Jovem Aprendiz\n",
       "2  APRENDIZ ASSIST ADMINISTRATIVO   Jovem Aprendiz\n",
       "3     APRENDIZ AUX ADMINISTRATIVO   Jovem Aprendiz\n",
       "4   APRENDIZ VEND COM VAREJISTA I   Jovem Aprendiz"
      ]
     },
     "execution_count": 1601,
     "metadata": {},
     "output_type": "execute_result"
    }
   ],
   "source": [
    "##Mostrando como ficou o de_para\n",
    "df_de_para.head()"
   ]
  },
  {
   "cell_type": "code",
   "execution_count": 1602,
   "id": "08d3871c",
   "metadata": {
    "ExecuteTime": {
     "end_time": "2023-03-09T12:21:44.036262Z",
     "start_time": "2023-03-09T12:21:43.993167Z"
    }
   },
   "outputs": [],
   "source": [
    "##Merge para trazer os times\n",
    "df_Gerencial_final = df_Gerencial_final.merge(df_de_para, on = 'Cargo', how = 'left')"
   ]
  },
  {
   "cell_type": "code",
   "execution_count": 1603,
   "id": "b624b50b",
   "metadata": {},
   "outputs": [
    {
     "data": {
      "text/html": [
       "<div>\n",
       "<style scoped>\n",
       "    .dataframe tbody tr th:only-of-type {\n",
       "        vertical-align: middle;\n",
       "    }\n",
       "\n",
       "    .dataframe tbody tr th {\n",
       "        vertical-align: top;\n",
       "    }\n",
       "\n",
       "    .dataframe thead th {\n",
       "        text-align: right;\n",
       "    }\n",
       "</style>\n",
       "<table border=\"1\" class=\"dataframe\">\n",
       "  <thead>\n",
       "    <tr style=\"text-align: right;\">\n",
       "      <th></th>\n",
       "      <th>Empresa</th>\n",
       "      <th>username</th>\n",
       "      <th>User_id</th>\n",
       "      <th>Matrícula</th>\n",
       "      <th>Nome</th>\n",
       "      <th>Cargo</th>\n",
       "      <th>Filial</th>\n",
       "      <th>Regional</th>\n",
       "      <th>Diretoria</th>\n",
       "      <th>Data_Nascimento</th>\n",
       "      <th>CPF</th>\n",
       "      <th>Data_de_admissão</th>\n",
       "      <th>Status</th>\n",
       "      <th>Bandeira</th>\n",
       "      <th>Categoria</th>\n",
       "      <th>action</th>\n",
       "      <th>role</th>\n",
       "      <th>TIME_GALERIA</th>\n",
       "    </tr>\n",
       "  </thead>\n",
       "  <tbody>\n",
       "    <tr>\n",
       "      <th>0</th>\n",
       "      <td>21</td>\n",
       "      <td>2104482816</td>\n",
       "      <td>953877</td>\n",
       "      <td>4482816</td>\n",
       "      <td>ALINE ZUVERANA GOMES</td>\n",
       "      <td>ASSESSOR DE VENDAS</td>\n",
       "      <td>2192</td>\n",
       "      <td>414</td>\n",
       "      <td>4</td>\n",
       "      <td>10.08.1987</td>\n",
       "      <td>7716689614</td>\n",
       "      <td>2020-03-16</td>\n",
       "      <td>ATIVO</td>\n",
       "      <td>CB</td>\n",
       "      <td>Tecnologia</td>\n",
       "      <td>NO</td>\n",
       "      <td>student</td>\n",
       "      <td>#Vendedor</td>\n",
       "    </tr>\n",
       "    <tr>\n",
       "      <th>1</th>\n",
       "      <td>21</td>\n",
       "      <td>2100240095</td>\n",
       "      <td>285815</td>\n",
       "      <td>240095</td>\n",
       "      <td>FRANCISCA ZULENE DE MELO</td>\n",
       "      <td>VENDEDOR INTERNO</td>\n",
       "      <td>1110</td>\n",
       "      <td>221</td>\n",
       "      <td>2</td>\n",
       "      <td>30.06.1978</td>\n",
       "      <td>8084588761</td>\n",
       "      <td>2003-06-18</td>\n",
       "      <td>ATIVO</td>\n",
       "      <td>CB</td>\n",
       "      <td>Linha Leve</td>\n",
       "      <td>NO</td>\n",
       "      <td>student</td>\n",
       "      <td>#Vendedor</td>\n",
       "    </tr>\n",
       "    <tr>\n",
       "      <th>2</th>\n",
       "      <td>21</td>\n",
       "      <td>2100240095</td>\n",
       "      <td>285815</td>\n",
       "      <td>240095</td>\n",
       "      <td>FRANCISCA ZULENE DE MELO</td>\n",
       "      <td>VENDEDOR INTERNO</td>\n",
       "      <td>1166</td>\n",
       "      <td>221</td>\n",
       "      <td>2</td>\n",
       "      <td>30.06.1978</td>\n",
       "      <td>8084588761</td>\n",
       "      <td>2003-06-18</td>\n",
       "      <td>ATIVO</td>\n",
       "      <td>CB</td>\n",
       "      <td>Linha Branca</td>\n",
       "      <td>NO</td>\n",
       "      <td>student</td>\n",
       "      <td>#Vendedor</td>\n",
       "    </tr>\n",
       "    <tr>\n",
       "      <th>3</th>\n",
       "      <td>21</td>\n",
       "      <td>2101839616</td>\n",
       "      <td>402426</td>\n",
       "      <td>1839616</td>\n",
       "      <td>MARIA ZULEIDE DA COSTA XAVIER</td>\n",
       "      <td>CAIXA</td>\n",
       "      <td>1707</td>\n",
       "      <td>713</td>\n",
       "      <td>7</td>\n",
       "      <td>27.04.1967</td>\n",
       "      <td>35711167391</td>\n",
       "      <td>2011-11-01</td>\n",
       "      <td>ATIVO</td>\n",
       "      <td>CB</td>\n",
       "      <td>-</td>\n",
       "      <td>NO</td>\n",
       "      <td>student</td>\n",
       "      <td>Caixa</td>\n",
       "    </tr>\n",
       "    <tr>\n",
       "      <th>4</th>\n",
       "      <td>21</td>\n",
       "      <td>2104908007</td>\n",
       "      <td>1248777</td>\n",
       "      <td>4908007</td>\n",
       "      <td>REGINA ZORRILLA</td>\n",
       "      <td>CONS ADM LOJA</td>\n",
       "      <td>2119</td>\n",
       "      <td>421</td>\n",
       "      <td>4</td>\n",
       "      <td>14.12.1985</td>\n",
       "      <td>2276304162</td>\n",
       "      <td>2021-02-08</td>\n",
       "      <td>ATIVO</td>\n",
       "      <td>CB</td>\n",
       "      <td>-</td>\n",
       "      <td>NO</td>\n",
       "      <td>student</td>\n",
       "      <td>CAL</td>\n",
       "    </tr>\n",
       "  </tbody>\n",
       "</table>\n",
       "</div>"
      ],
      "text/plain": [
       "  Empresa    username  User_id Matrícula                           Nome  \\\n",
       "0      21  2104482816   953877   4482816           ALINE ZUVERANA GOMES   \n",
       "1      21  2100240095   285815    240095       FRANCISCA ZULENE DE MELO   \n",
       "2      21  2100240095   285815    240095       FRANCISCA ZULENE DE MELO   \n",
       "3      21  2101839616   402426   1839616  MARIA ZULEIDE DA COSTA XAVIER   \n",
       "4      21  2104908007  1248777   4908007                REGINA ZORRILLA   \n",
       "\n",
       "                Cargo Filial Regional Diretoria Data_Nascimento          CPF  \\\n",
       "0  ASSESSOR DE VENDAS   2192      414         4      10.08.1987   7716689614   \n",
       "1    VENDEDOR INTERNO   1110      221         2      30.06.1978   8084588761   \n",
       "2    VENDEDOR INTERNO   1166      221         2      30.06.1978   8084588761   \n",
       "3               CAIXA   1707      713         7      27.04.1967  35711167391   \n",
       "4       CONS ADM LOJA   2119      421         4      14.12.1985   2276304162   \n",
       "\n",
       "  Data_de_admissão Status Bandeira     Categoria action     role TIME_GALERIA  \n",
       "0       2020-03-16  ATIVO       CB    Tecnologia     NO  student    #Vendedor  \n",
       "1       2003-06-18  ATIVO       CB    Linha Leve     NO  student    #Vendedor  \n",
       "2       2003-06-18  ATIVO       CB  Linha Branca     NO  student    #Vendedor  \n",
       "3       2011-11-01  ATIVO       CB             -     NO  student        Caixa  \n",
       "4       2021-02-08  ATIVO       CB             -     NO  student          CAL  "
      ]
     },
     "execution_count": 1603,
     "metadata": {},
     "output_type": "execute_result"
    }
   ],
   "source": [
    "df_Gerencial_final.head(5)"
   ]
  },
  {
   "cell_type": "code",
   "execution_count": 1604,
   "id": "18a85570",
   "metadata": {
    "ExecuteTime": {
     "end_time": "2023-03-09T12:21:44.128938Z",
     "start_time": "2023-03-09T12:21:44.038711Z"
    }
   },
   "outputs": [],
   "source": [
    "##Deixando tabela em padão\n",
    "#incluindo argumentos obrigatórios\n",
    "df_Gerencial_final['SISTEMA_PROVE'] = 'Sistema Prove'\n",
    "df_Gerencial_final['GALERIA'] = 'Nova Galeria'\n",
    "df_Gerencial_final['PONTO_ONLINE'] = 'Ponto Online'\n",
    "df_Gerencial_final = df_Gerencial_final.rename(columns = {\n",
    "    'TIME GALERIA' : 'TIME_GALERIA',\n",
    "    'LIDERES DO FUTURO' : 'LIDERES_DO_FUTURO'\n",
    "})"
   ]
  },
  {
   "cell_type": "code",
   "execution_count": null,
   "id": "2db20932",
   "metadata": {},
   "outputs": [],
   "source": []
  },
  {
   "cell_type": "code",
   "execution_count": 1605,
   "id": "1e7354ec",
   "metadata": {
    "ExecuteTime": {
     "end_time": "2023-03-09T12:21:44.174713Z",
     "start_time": "2023-03-09T12:21:44.134980Z"
    }
   },
   "outputs": [],
   "source": [
    "df_Gerencial_final = df_Gerencial_final.rename(columns = {'Categoria':'CATEGORIA',\n",
    "                                                          'Bandeira':'BANDEIRA'})"
   ]
  },
  {
   "cell_type": "code",
   "execution_count": 1606,
   "id": "b8fe8209",
   "metadata": {
    "ExecuteTime": {
     "end_time": "2023-03-09T12:21:44.206712Z",
     "start_time": "2023-03-09T12:21:44.177714Z"
    }
   },
   "outputs": [],
   "source": [
    "df_Gerencial_final['BANDEIRA'] = np.where(df_Gerencial_final['BANDEIRA'] == 'CB', '#CasasBahia', df_Gerencial_final['BANDEIRA'])\n",
    "df_Gerencial_final['BANDEIRA'] = np.where(df_Gerencial_final['BANDEIRA'] == 'PF', '#Ponto', df_Gerencial_final['BANDEIRA'])\n",
    "df_Gerencial_final['BANDEIRA'] = np.where(df_Gerencial_final['BANDEIRA'] == 'Corp', 'Corporativo', df_Gerencial_final['BANDEIRA'])"
   ]
  },
  {
   "cell_type": "code",
   "execution_count": 1607,
   "id": "a8a9fded",
   "metadata": {
    "ExecuteTime": {
     "end_time": "2023-03-09T12:21:44.237713Z",
     "start_time": "2023-03-09T12:21:44.209713Z"
    }
   },
   "outputs": [],
   "source": [
    "#df_Gerencial_final['Data_de_admissão'] = df_Gerencial_final['Data_de_admissão'].apply(lambda x: x[3:])"
   ]
  },
  {
   "cell_type": "markdown",
   "id": "eaf7baf9",
   "metadata": {},
   "source": [
    "#### Incluindo BVBV"
   ]
  },
  {
   "cell_type": "code",
   "execution_count": 1608,
   "id": "db0d6b01",
   "metadata": {},
   "outputs": [
    {
     "data": {
      "text/plain": [
       "#CasasBahia    27528\n",
       "#Ponto          3835\n",
       "CORP            2327\n",
       "Name: BANDEIRA, dtype: int64"
      ]
     },
     "execution_count": 1608,
     "metadata": {},
     "output_type": "execute_result"
    }
   ],
   "source": [
    "df_Gerencial_final.BANDEIRA.value_counts()"
   ]
  },
  {
   "cell_type": "code",
   "execution_count": 1609,
   "id": "510f0769",
   "metadata": {},
   "outputs": [
    {
     "data": {
      "text/plain": [
       "#CasasBahia    27528\n",
       "#Ponto          3835\n",
       "CORP            2327\n",
       "Name: BANDEIRA, dtype: int64"
      ]
     },
     "execution_count": 1609,
     "metadata": {},
     "output_type": "execute_result"
    }
   ],
   "source": [
    "df_Gerencial_final.BANDEIRA.value_counts()"
   ]
  },
  {
   "cell_type": "code",
   "execution_count": 1610,
   "id": "5dc3b58c",
   "metadata": {},
   "outputs": [],
   "source": [
    "#Trazendo o time de usuários novos por bandeira\n",
    "#BVBV Vendas PT\n",
    "df_Gerencial_final['BANDEIRA'] = (\n",
    "        np.where((df_Gerencial_final['BANDEIRA'] == '#Ponto') &\n",
    "                 (df_Gerencial_final['Data_de_admissão'] >= '2023.06.01') &\n",
    "                 (DT_TODAY <= DT_TODAY_BVBV60)&\n",
    "                 ((df_Gerencial_final['Cargo']=='ASSESSOR DE VENDAS') |\n",
    "                 (df_Gerencial_final['Cargo']=='VENDEDOR INTERNO')), \n",
    "                 df_Gerencial_final['BANDEIRA'] + '//BVBV Vendas PT', \n",
    "                 df_Gerencial_final['BANDEIRA'])\n",
    ")\n",
    "\n",
    "#BVBV Atendimento PT\n",
    "df_Gerencial_final['BANDEIRA'] = (\n",
    "        np.where((df_Gerencial_final['BANDEIRA'] == '#Ponto') &\n",
    "                 (df_Gerencial_final['Data_de_admissão'] >= '2023.06.01') &\n",
    "                 (DT_TODAY <= DT_TODAY_BVBV60)&\n",
    "                 ((df_Gerencial_final['Cargo']=='ASSESSOR DE ATENDIMENTO') |\n",
    "                 (df_Gerencial_final['Cargo']=='AUX ESTOQUE')|\n",
    "                 (df_Gerencial_final['Cargo']=='CAIXA')), \n",
    "                 df_Gerencial_final['BANDEIRA'] + '//BVBV Atendimento PT', \n",
    "                 df_Gerencial_final['BANDEIRA'])\n",
    ")\n",
    "\n",
    "#BVBV Vendas CB\n",
    "df_Gerencial_final['BANDEIRA'] = (\n",
    "        np.where((df_Gerencial_final['BANDEIRA'] == '#CasasBahia') &\n",
    "                 (df_Gerencial_final['Data_de_admissão'] >= '2023.06.01') &\n",
    "                 (DT_TODAY <= DT_TODAY_BVBV60)&\n",
    "                 ((df_Gerencial_final['Cargo']=='ASSESSOR DE VENDAS') |\n",
    "                 (df_Gerencial_final['Cargo']=='VENDEDOR INTERNO')), \n",
    "                 df_Gerencial_final['BANDEIRA'] + '//BVBV Vendas CB', \n",
    "                 df_Gerencial_final['BANDEIRA'])\n",
    ")\n",
    "\n",
    "#BVBV Atendimento CB\n",
    "df_Gerencial_final['BANDEIRA'] = (\n",
    "        np.where((df_Gerencial_final['BANDEIRA'] == '#CasasBahia') &\n",
    "                 (df_Gerencial_final['Data_de_admissão'] >= '2023.06.01') &\n",
    "                 (DT_TODAY <= DT_TODAY_BVBV60)&\n",
    "                 ((df_Gerencial_final['Cargo']=='ASSESSOR DE ATENDIMENTO') |\n",
    "                 (df_Gerencial_final['Cargo']=='AUX ESTOQUE')|\n",
    "                 (df_Gerencial_final['Cargo']=='CAIXA')), \n",
    "                 df_Gerencial_final['BANDEIRA'] + '//BVBV Atendimento CB', \n",
    "                 df_Gerencial_final['BANDEIRA'])\n",
    ")"
   ]
  },
  {
   "cell_type": "code",
   "execution_count": 1611,
   "id": "a9f02bca",
   "metadata": {
    "ExecuteTime": {
     "end_time": "2023-03-09T12:21:44.316730Z",
     "start_time": "2023-03-09T12:21:44.240716Z"
    }
   },
   "outputs": [],
   "source": [
    "# #Trazendo o time de usuários novos por bandeira\n",
    "# df_Gerencial_final['BANDEIRA'] = np.where((df_Gerencial_final['BANDEIRA'] == 'PF') & (df_Gerencial_final['Data_de_admissão'] == MONTH_COMP) , df_Gerencial_final['BANDEIRA'] + '//Novatos PONTO', df_Gerencial_final['BANDEIRA'])\n",
    "# df_Gerencial_final['BANDEIRA'] = np.where((df_Gerencial_final['BANDEIRA'] == 'PF') & (df_Gerencial_final['Data_de_admissão'] == MONTH_COMP_2) , df_Gerencial_final['BANDEIRA'] + '//Novatos PONTO', df_Gerencial_final['BANDEIRA'])\n",
    "# df_Gerencial_final['BANDEIRA'] = np.where((df_Gerencial_final['BANDEIRA'] == 'CB') & (df_Gerencial_final['Data_de_admissão'] == MONTH_COMP) , df_Gerencial_final['BANDEIRA'] + '//Novatos CB', df_Gerencial_final['BANDEIRA'])\n",
    "# df_Gerencial_final['BANDEIRA'] = np.where((df_Gerencial_final['BANDEIRA'] == 'CB') & (df_Gerencial_final['Data_de_admissão'] == MONTH_COMP_2) , df_Gerencial_final['BANDEIRA'] + '//Novatos CB', df_Gerencial_final['BANDEIRA'])"
   ]
  },
  {
   "cell_type": "code",
   "execution_count": 1612,
   "id": "dd5f1926",
   "metadata": {
    "ExecuteTime": {
     "end_time": "2023-03-09T12:21:44.362665Z",
     "start_time": "2023-03-09T12:21:44.319795Z"
    }
   },
   "outputs": [],
   "source": [
    "df_Gerencial_final = df_Gerencial_final[['action', 'role', 'username', 'Matrícula', 'User_id', 'Nome', 'Cargo','Data_Nascimento','CPF', 'TIME_GALERIA', 'SISTEMA_PROVE','CATEGORIA', 'GALERIA', 'PONTO_ONLINE', 'BANDEIRA','Diretoria','Regional','Filial']]"
   ]
  },
  {
   "cell_type": "code",
   "execution_count": null,
   "id": "bb272135",
   "metadata": {},
   "outputs": [],
   "source": []
  },
  {
   "cell_type": "code",
   "execution_count": 1613,
   "id": "407d5e76",
   "metadata": {
    "ExecuteTime": {
     "end_time": "2023-03-09T12:21:44.394837Z",
     "start_time": "2023-03-09T12:21:44.365614Z"
    }
   },
   "outputs": [],
   "source": [
    "df_Gerencial_final = df_Gerencial_final.rename(columns = {'username': \"Username\"})"
   ]
  },
  {
   "cell_type": "markdown",
   "id": "2070264e",
   "metadata": {},
   "source": [
    "### Incluindo times personalizados"
   ]
  },
  {
   "cell_type": "code",
   "execution_count": 1614,
   "id": "e8e4c1d5",
   "metadata": {
    "ExecuteTime": {
     "end_time": "2023-03-09T12:21:44.411617Z",
     "start_time": "2023-03-09T12:21:44.396617Z"
    }
   },
   "outputs": [],
   "source": [
    "#Verificando a validade do time\n",
    "\n",
    "#Separando os grupos sem validade\n",
    "df_times_personalizados_final = df_times_personalizados[df_times_personalizados[\"Validade\"] == \"Sem validade\"]\n",
    "\n",
    "#Verificando os times com validade\n",
    "df_times_personalizados_validade = df_times_personalizados[df_times_personalizados[\"Validade\"] != \"Sem validade\"]\n",
    "\n",
    "if df_times_personalizados_validade.shape[0] > 0:\n",
    "    df_times_personalizados_validade['Validade'] = df_times_personalizados_validade['Validade'].astype(int)\n",
    "    df_times_personalizados_validade['Validade'] = df_times_personalizados_validade[df_times_personalizados_validade['Validade'] >= int(TODAY)]\n",
    "    df_times_personalizados_final = pd.concat([df_times_personalizados_final, df_times_personalizados_validade], axis = 0, ignore_index=True)\n",
    "    \n",
    "    \n",
    "df_times_personalizados_final = df_times_personalizados_final[['Nome do time', 'Tipo', 'Métrica']]"
   ]
  },
  {
   "cell_type": "code",
   "execution_count": 1615,
   "id": "28c72bbc",
   "metadata": {
    "ExecuteTime": {
     "end_time": "2023-03-09T12:21:44.426642Z",
     "start_time": "2023-03-09T12:21:44.414616Z"
    }
   },
   "outputs": [],
   "source": [
    "#Gerando as listas de comparação\n",
    "tipos = df_times_personalizados_final[\"Tipo\"].unique()\n",
    "times_personalizados = df_times_personalizados_final[\"Nome do time\"].unique()"
   ]
  },
  {
   "cell_type": "code",
   "execution_count": 1616,
   "id": "609dcc21",
   "metadata": {
    "ExecuteTime": {
     "end_time": "2023-03-09T12:21:44.705119Z",
     "start_time": "2023-03-09T12:21:44.429729Z"
    }
   },
   "outputs": [],
   "source": [
    "#Para cada tipo de métrica será incluso na base principal\n",
    "for tipo in tipos:\n",
    "    df = df_times_personalizados[df_times_personalizados['Tipo'] == tipo]\n",
    "    df = df.rename(columns = {\"Métrica\": tipo})\n",
    "    df = pd.pivot_table(df, index = tipo, columns='Nome do time', aggfunc='count', values = 'Tipo').reset_index()\n",
    "    df = df.replace(np.nan, '')\n",
    "    \n",
    "    #Deixando todos no mesmo tipo\n",
    "    df[tipo] = df[tipo].apply(lambda x: str(x).replace('.0',''))\n",
    "    df_Gerencial_final[tipo] = df_Gerencial_final[tipo].apply(lambda x: str(x).replace('.0',''))\n",
    "    \n",
    "    #Trazendo os times para a base principal\n",
    "    df_Gerencial_final = df_Gerencial_final.merge(df, on = tipo, how = 'left')"
   ]
  },
  {
   "cell_type": "code",
   "execution_count": 1617,
   "id": "c2e2c349",
   "metadata": {
    "ExecuteTime": {
     "end_time": "2023-03-09T12:21:44.846452Z",
     "start_time": "2023-03-09T12:21:44.708114Z"
    }
   },
   "outputs": [],
   "source": [
    "df_Gerencial_final = df_Gerencial_final.replace(np.nan, '')"
   ]
  },
  {
   "cell_type": "code",
   "execution_count": 1618,
   "id": "2af8720d",
   "metadata": {
    "ExecuteTime": {
     "end_time": "2023-03-09T12:21:44.939552Z",
     "start_time": "2023-03-09T12:21:44.849342Z"
    }
   },
   "outputs": [],
   "source": [
    "for time in times_personalizados:\n",
    "    df_Gerencial_final[time] = np.where(df_Gerencial_final[time] != '', time, '')"
   ]
  },
  {
   "cell_type": "markdown",
   "id": "e1571f14",
   "metadata": {},
   "source": [
    "### Gerando a base da Skore"
   ]
  },
  {
   "cell_type": "code",
   "execution_count": 1619,
   "id": "0966982f",
   "metadata": {
    "ExecuteTime": {
     "end_time": "2023-03-09T12:21:45.000716Z",
     "start_time": "2023-03-09T12:21:44.942307Z"
    }
   },
   "outputs": [],
   "source": [
    "df_usuarios = df_Gerencial_final.copy()"
   ]
  },
  {
   "cell_type": "code",
   "execution_count": 1620,
   "id": "0b03e2d5",
   "metadata": {
    "ExecuteTime": {
     "end_time": "2023-03-09T12:21:45.032527Z",
     "start_time": "2023-03-09T12:21:45.003631Z"
    }
   },
   "outputs": [],
   "source": [
    "df_usuarios = df_usuarios.rename(columns = {'Username':'username',\n",
    "                                            'User_id':'user_id',\n",
    "                                            'Matrícula':'matricula',\n",
    "                                            'Nome':'name',\n",
    "                                            'Cargo':'cargo',\n",
    "                                            'Filial':'filial',\n",
    "                                            'Regional':'regional',\n",
    "                                            'Status':'status',\n",
    "                                            'Diretoria':'diretoria',\n",
    "                                            'Data_Nascimento':'nascimento',\n",
    "                                            'CPF':'cpf'})"
   ]
  },
  {
   "cell_type": "code",
   "execution_count": 1621,
   "id": "84b07536",
   "metadata": {},
   "outputs": [
    {
     "data": {
      "text/html": [
       "<div>\n",
       "<style scoped>\n",
       "    .dataframe tbody tr th:only-of-type {\n",
       "        vertical-align: middle;\n",
       "    }\n",
       "\n",
       "    .dataframe tbody tr th {\n",
       "        vertical-align: top;\n",
       "    }\n",
       "\n",
       "    .dataframe thead th {\n",
       "        text-align: right;\n",
       "    }\n",
       "</style>\n",
       "<table border=\"1\" class=\"dataframe\">\n",
       "  <thead>\n",
       "    <tr style=\"text-align: right;\">\n",
       "      <th></th>\n",
       "      <th>action</th>\n",
       "      <th>role</th>\n",
       "      <th>username</th>\n",
       "      <th>matricula</th>\n",
       "      <th>user_id</th>\n",
       "      <th>name</th>\n",
       "      <th>cargo</th>\n",
       "      <th>nascimento</th>\n",
       "      <th>cpf</th>\n",
       "      <th>TIME_GALERIA</th>\n",
       "      <th>...</th>\n",
       "      <th>Cipa</th>\n",
       "      <th>EstoqueDropoff</th>\n",
       "      <th>EstoqueMinihub</th>\n",
       "      <th>EstoqueNA</th>\n",
       "      <th>EstoqueTransitpoint</th>\n",
       "      <th>Bradesco Renegociação</th>\n",
       "      <th>Lista de presentes</th>\n",
       "      <th>Pague Lojas</th>\n",
       "      <th>Piloto Seguro</th>\n",
       "      <th>REG125</th>\n",
       "    </tr>\n",
       "  </thead>\n",
       "  <tbody>\n",
       "    <tr>\n",
       "      <th>0</th>\n",
       "      <td>NO</td>\n",
       "      <td>student</td>\n",
       "      <td>2104482816</td>\n",
       "      <td>4482816</td>\n",
       "      <td>953877</td>\n",
       "      <td>ALINE ZUVERANA GOMES</td>\n",
       "      <td>ASSESSOR DE VENDAS</td>\n",
       "      <td>10.08.1987</td>\n",
       "      <td>7716689614</td>\n",
       "      <td>#Vendedor</td>\n",
       "      <td>...</td>\n",
       "      <td></td>\n",
       "      <td></td>\n",
       "      <td></td>\n",
       "      <td></td>\n",
       "      <td></td>\n",
       "      <td></td>\n",
       "      <td></td>\n",
       "      <td></td>\n",
       "      <td></td>\n",
       "      <td></td>\n",
       "    </tr>\n",
       "    <tr>\n",
       "      <th>1</th>\n",
       "      <td>NO</td>\n",
       "      <td>student</td>\n",
       "      <td>2100240095</td>\n",
       "      <td>240095</td>\n",
       "      <td>285815</td>\n",
       "      <td>FRANCISCA ZULENE DE MELO</td>\n",
       "      <td>VENDEDOR INTERNO</td>\n",
       "      <td>30.06.1978</td>\n",
       "      <td>8084588761</td>\n",
       "      <td>#Vendedor</td>\n",
       "      <td>...</td>\n",
       "      <td></td>\n",
       "      <td></td>\n",
       "      <td></td>\n",
       "      <td></td>\n",
       "      <td></td>\n",
       "      <td></td>\n",
       "      <td></td>\n",
       "      <td></td>\n",
       "      <td></td>\n",
       "      <td></td>\n",
       "    </tr>\n",
       "  </tbody>\n",
       "</table>\n",
       "<p>2 rows × 35 columns</p>\n",
       "</div>"
      ],
      "text/plain": [
       "  action     role    username matricula user_id                      name  \\\n",
       "0     NO  student  2104482816   4482816  953877      ALINE ZUVERANA GOMES   \n",
       "1     NO  student  2100240095    240095  285815  FRANCISCA ZULENE DE MELO   \n",
       "\n",
       "                cargo  nascimento         cpf TIME_GALERIA  ... Cipa  \\\n",
       "0  ASSESSOR DE VENDAS  10.08.1987  7716689614    #Vendedor  ...        \n",
       "1    VENDEDOR INTERNO  30.06.1978  8084588761    #Vendedor  ...        \n",
       "\n",
       "  EstoqueDropoff EstoqueMinihub EstoqueNA EstoqueTransitpoint  \\\n",
       "0                                                               \n",
       "1                                                               \n",
       "\n",
       "  Bradesco Renegociação Lista de presentes Pague Lojas Piloto Seguro REG125  \n",
       "0                                                                            \n",
       "1                                                                            \n",
       "\n",
       "[2 rows x 35 columns]"
      ]
     },
     "execution_count": 1621,
     "metadata": {},
     "output_type": "execute_result"
    }
   ],
   "source": [
    "df_usuarios.head(2)"
   ]
  },
  {
   "cell_type": "code",
   "execution_count": 1622,
   "id": "4962feca",
   "metadata": {},
   "outputs": [
    {
     "name": "stdout",
     "output_type": "stream",
     "text": [
      "NO        33627\n",
      "CREATE       63\n",
      "Name: action, dtype: int64\n"
     ]
    }
   ],
   "source": [
    "print(df_Gerencial_final['action'].value_counts())"
   ]
  },
  {
   "cell_type": "code",
   "execution_count": 1623,
   "id": "2d9fbc7e",
   "metadata": {
    "ExecuteTime": {
     "end_time": "2023-03-09T12:21:45.172625Z",
     "start_time": "2023-03-09T12:21:45.035531Z"
    }
   },
   "outputs": [],
   "source": [
    "##Criando a senha de acesso por usuario!\n",
    "df_usuarios['cpf'] = df_usuarios['cpf'].astype(float)\n",
    "df_usuarios['cpf'] = df_usuarios['cpf'].apply(lambda x: '%.0f' %x)\n",
    "df_usuarios['cpf'] = df_usuarios['cpf'].astype(str).str.zfill(11)\n",
    "df_usuarios ['CPF_base'] = [x[:4] for x in  df_usuarios['cpf']]\n",
    "df_usuarios['nascimento'] = df_usuarios['nascimento'].astype(str)\n",
    "df_usuarios['dia'] = df_usuarios['nascimento'].apply(lambda x: x[:2])\n",
    "df_usuarios['password'] = df_usuarios['CPF_base'] + df_usuarios['dia']"
   ]
  },
  {
   "cell_type": "code",
   "execution_count": 1624,
   "id": "b0b9fc33",
   "metadata": {
    "ExecuteTime": {
     "end_time": "2023-03-09T12:21:45.327501Z",
     "start_time": "2023-03-09T12:21:45.175718Z"
    }
   },
   "outputs": [],
   "source": [
    "##Excluindo o os não encontrados\n",
    "df_usuarios= df_usuarios.replace(np.nan, '0')"
   ]
  },
  {
   "cell_type": "code",
   "execution_count": 1625,
   "id": "727bbf6f",
   "metadata": {
    "ExecuteTime": {
     "end_time": "2023-03-09T12:21:45.373591Z",
     "start_time": "2023-03-09T12:21:45.330434Z"
    }
   },
   "outputs": [
    {
     "data": {
      "text/plain": [
       "0        student\n",
       "1        student\n",
       "2        student\n",
       "3        student\n",
       "4        student\n",
       "          ...   \n",
       "33685    student\n",
       "33686    student\n",
       "33687    student\n",
       "33688    student\n",
       "33689    student\n",
       "Name: role, Length: 33690, dtype: object"
      ]
     },
     "execution_count": 1625,
     "metadata": {},
     "output_type": "execute_result"
    }
   ],
   "source": [
    "##Criando o e-mail dos funcionarios\n",
    "df_usuarios ['email_base'] = '@viaapp.io'\n",
    "df_usuarios ['email'] = df_usuarios['user_id'].astype(str) + df_usuarios ['email_base']\n",
    "df_usuarios ['email'] = df_usuarios['username'].astype(str) + df_usuarios ['email_base']\n",
    "df_usuarios ['role']"
   ]
  },
  {
   "cell_type": "code",
   "execution_count": 1626,
   "id": "802ca733",
   "metadata": {},
   "outputs": [
    {
     "data": {
      "text/plain": [
       "(33690, 40)"
      ]
     },
     "execution_count": 1626,
     "metadata": {},
     "output_type": "execute_result"
    }
   ],
   "source": [
    "df_usuarios.shape"
   ]
  },
  {
   "cell_type": "code",
   "execution_count": 1627,
   "id": "40206f2a",
   "metadata": {
    "ExecuteTime": {
     "end_time": "2023-03-09T12:21:45.434601Z",
     "start_time": "2023-03-09T12:21:45.376440Z"
    }
   },
   "outputs": [],
   "source": [
    "## Juntar os times por usuarios \n",
    "df_usuarios['cod'] = df_usuarios['username'].apply(lambda x: x[:2])\n",
    "df_usuarios['teams'] = '#Via'\n",
    "df_usuarios['teams'] = np.where(df_usuarios['cod'] == '21',df_usuarios['teams'],'Parceiros Terceirizados')\n",
    "df_usuarios['teams'] = df_usuarios['teams']"
   ]
  },
  {
   "cell_type": "code",
   "execution_count": 1628,
   "id": "e7d7d200",
   "metadata": {
    "ExecuteTime": {
     "end_time": "2023-03-09T12:21:45.526711Z",
     "start_time": "2023-03-09T12:21:45.438605Z"
    }
   },
   "outputs": [],
   "source": [
    "#Ajustando o time de diretoria\n",
    "df_usuarios['cod'] = df_usuarios['username'].apply(lambda x: x[:2])\n",
    "df_usuarios['Diretoria'] = df_usuarios['diretoria'].astype(str).str.zfill(2)\n",
    "df_usuarios['teams'] = np.where(df_usuarios['Diretoria'] == '0-',df_usuarios['teams'],df_usuarios['teams'] + '//'+'DIR'+ df_usuarios['Diretoria'])"
   ]
  },
  {
   "cell_type": "code",
   "execution_count": 1629,
   "id": "d0e9e457",
   "metadata": {
    "ExecuteTime": {
     "end_time": "2023-03-09T12:21:45.696492Z",
     "start_time": "2023-03-09T12:21:45.529661Z"
    }
   },
   "outputs": [],
   "source": [
    "#trazendo os times antigos para comparativo\n",
    "df_comp = df_user_id.copy()\n",
    "df_comp = df_comp.rename(columns = {'Username':'username', 'role':'role_ant', 'email':'email_ant', 'name':'name_ant'})\n",
    "df_comp = df_comp[['username', 'team', 'role_ant', 'email_ant', 'name_ant']]\n",
    "\n",
    "df_usuarios = df_usuarios.merge(df_comp, on = 'username', how = 'left')\n",
    "df_usuarios['team'] = df_usuarios['team'].astype(str)"
   ]
  },
  {
   "cell_type": "code",
   "execution_count": 1630,
   "id": "ad200912",
   "metadata": {},
   "outputs": [],
   "source": [
    "#print(df_usuarios['action'].value_counts())"
   ]
  },
  {
   "cell_type": "code",
   "execution_count": 1631,
   "id": "e103edc0",
   "metadata": {
    "ExecuteTime": {
     "end_time": "2023-03-09T12:21:45.711542Z",
     "start_time": "2023-03-09T12:21:45.700011Z"
    }
   },
   "outputs": [
    {
     "data": {
      "text/plain": [
       "array(['#Obrigatórios', 'Lista de presentes', 'REG125',\n",
       "       '*Teste Piloto Missões Soluções', 'EstoqueNA', 'Pague Lojas',\n",
       "       'EstoqueDropoff', 'EstoqueMinihub', 'EstoqueTransitpoint', 'Cipa',\n",
       "       'Piloto Seguro', 'Bradesco Renegociação',\n",
       "       'Bradesco Renegociação Gestor', 'BVBV Vendas CB', 'BVBV Vendas PT',\n",
       "       'BVBV Atendimento CB', 'BVBV Atendimento PT'], dtype=object)"
      ]
     },
     "execution_count": 1631,
     "metadata": {},
     "output_type": "execute_result"
    }
   ],
   "source": [
    "times_personalizados"
   ]
  },
  {
   "cell_type": "code",
   "execution_count": 1632,
   "id": "7a66c5ab",
   "metadata": {
    "ExecuteTime": {
     "end_time": "2023-03-09T12:21:55.634944Z",
     "start_time": "2023-03-09T12:21:45.715864Z"
    }
   },
   "outputs": [],
   "source": [
    "#Ajustando demais times\n",
    "\n",
    "TIMES = ['TIME_GALERIA', 'SISTEMA_PROVE', 'CATEGORIA', 'GALERIA', 'PONTO_ONLINE', 'BANDEIRA']\n",
    "TIMES = [*TIMES, *times_personalizados] #Adicionando as colunas dos times personalizados\n",
    "VAZIOS = ['0-', '-', '', '0', 'Não Elegível', 'Não Elegivel']\n",
    "\n",
    "for time in TIMES:\n",
    "    df_usuarios['teams'] = np.where(df_usuarios[time].isin(VAZIOS),df_usuarios['teams'],df_usuarios['teams'] + '//' + df_usuarios[time])\n",
    "    df_usuarios['check_update'] = df_usuarios.apply(lambda x: True if x[time] in VAZIOS else x[time] in x.team , axis=1)\n",
    "    df_usuarios['action'] = np.where((df_usuarios['check_update'] == False) & (df_usuarios['action'] != 'CREATE') , 'OVERWRITE',df_usuarios['action'] )"
   ]
  },
  {
   "cell_type": "code",
   "execution_count": 1633,
   "id": "936439f6",
   "metadata": {},
   "outputs": [
    {
     "data": {
      "text/html": [
       "<div>\n",
       "<style scoped>\n",
       "    .dataframe tbody tr th:only-of-type {\n",
       "        vertical-align: middle;\n",
       "    }\n",
       "\n",
       "    .dataframe tbody tr th {\n",
       "        vertical-align: top;\n",
       "    }\n",
       "\n",
       "    .dataframe thead th {\n",
       "        text-align: right;\n",
       "    }\n",
       "</style>\n",
       "<table border=\"1\" class=\"dataframe\">\n",
       "  <thead>\n",
       "    <tr style=\"text-align: right;\">\n",
       "      <th></th>\n",
       "      <th>action</th>\n",
       "      <th>role</th>\n",
       "      <th>username</th>\n",
       "      <th>matricula</th>\n",
       "      <th>user_id</th>\n",
       "      <th>name</th>\n",
       "      <th>cargo</th>\n",
       "      <th>nascimento</th>\n",
       "      <th>cpf</th>\n",
       "      <th>TIME_GALERIA</th>\n",
       "      <th>...</th>\n",
       "      <th>email_base</th>\n",
       "      <th>email</th>\n",
       "      <th>cod</th>\n",
       "      <th>teams</th>\n",
       "      <th>Diretoria</th>\n",
       "      <th>team</th>\n",
       "      <th>role_ant</th>\n",
       "      <th>email_ant</th>\n",
       "      <th>name_ant</th>\n",
       "      <th>check_update</th>\n",
       "    </tr>\n",
       "  </thead>\n",
       "  <tbody>\n",
       "    <tr>\n",
       "      <th>0</th>\n",
       "      <td>NO</td>\n",
       "      <td>student</td>\n",
       "      <td>2104482816</td>\n",
       "      <td>4482816</td>\n",
       "      <td>953877</td>\n",
       "      <td>ALINE ZUVERANA GOMES</td>\n",
       "      <td>ASSESSOR DE VENDAS</td>\n",
       "      <td>10.08.1987</td>\n",
       "      <td>07716689614</td>\n",
       "      <td>#Vendedor</td>\n",
       "      <td>...</td>\n",
       "      <td>@viaapp.io</td>\n",
       "      <td>2104482816@viaapp.io</td>\n",
       "      <td>21</td>\n",
       "      <td>#Via//DIR04//#Vendedor//Sistema Prove//Tecnolo...</td>\n",
       "      <td>04</td>\n",
       "      <td>Tecnologia//#CasasBahia//Ponto Online//DIR04//...</td>\n",
       "      <td>student</td>\n",
       "      <td>2104482816@viaapp.io</td>\n",
       "      <td>ALINE ZUVERANA GOMES</td>\n",
       "      <td>True</td>\n",
       "    </tr>\n",
       "    <tr>\n",
       "      <th>1</th>\n",
       "      <td>OVERWRITE</td>\n",
       "      <td>student</td>\n",
       "      <td>2100240095</td>\n",
       "      <td>240095</td>\n",
       "      <td>285815</td>\n",
       "      <td>FRANCISCA ZULENE DE MELO</td>\n",
       "      <td>VENDEDOR INTERNO</td>\n",
       "      <td>30.06.1978</td>\n",
       "      <td>08084588761</td>\n",
       "      <td>#Vendedor</td>\n",
       "      <td>...</td>\n",
       "      <td>@viaapp.io</td>\n",
       "      <td>2100240095@viaapp.io</td>\n",
       "      <td>21</td>\n",
       "      <td>#Via//DIR02//#Vendedor//Sistema Prove//Linha L...</td>\n",
       "      <td>02</td>\n",
       "      <td>Nova Galeria//#CasasBahia//Pague Lojas//#Via//...</td>\n",
       "      <td>student</td>\n",
       "      <td>2100240095@viaapp.io</td>\n",
       "      <td>FRANCISCA ZULENE DE MELO</td>\n",
       "      <td>True</td>\n",
       "    </tr>\n",
       "    <tr>\n",
       "      <th>2</th>\n",
       "      <td>NO</td>\n",
       "      <td>student</td>\n",
       "      <td>2100240095</td>\n",
       "      <td>240095</td>\n",
       "      <td>285815</td>\n",
       "      <td>FRANCISCA ZULENE DE MELO</td>\n",
       "      <td>VENDEDOR INTERNO</td>\n",
       "      <td>30.06.1978</td>\n",
       "      <td>08084588761</td>\n",
       "      <td>#Vendedor</td>\n",
       "      <td>...</td>\n",
       "      <td>@viaapp.io</td>\n",
       "      <td>2100240095@viaapp.io</td>\n",
       "      <td>21</td>\n",
       "      <td>#Via//DIR02//#Vendedor//Sistema Prove//Linha B...</td>\n",
       "      <td>02</td>\n",
       "      <td>Nova Galeria//#CasasBahia//Pague Lojas//#Via//...</td>\n",
       "      <td>student</td>\n",
       "      <td>2100240095@viaapp.io</td>\n",
       "      <td>FRANCISCA ZULENE DE MELO</td>\n",
       "      <td>True</td>\n",
       "    </tr>\n",
       "    <tr>\n",
       "      <th>3</th>\n",
       "      <td>NO</td>\n",
       "      <td>student</td>\n",
       "      <td>2101839616</td>\n",
       "      <td>1839616</td>\n",
       "      <td>402426</td>\n",
       "      <td>MARIA ZULEIDE DA COSTA XAVIER</td>\n",
       "      <td>CAIXA</td>\n",
       "      <td>27.04.1967</td>\n",
       "      <td>35711167391</td>\n",
       "      <td>Caixa</td>\n",
       "      <td>...</td>\n",
       "      <td>@viaapp.io</td>\n",
       "      <td>2101839616@viaapp.io</td>\n",
       "      <td>21</td>\n",
       "      <td>#Via//DIR07//Caixa//Sistema Prove//Nova Galeri...</td>\n",
       "      <td>07</td>\n",
       "      <td>Nova Galeria//#Via//DIR07//Caixa//Ponto Online...</td>\n",
       "      <td>student</td>\n",
       "      <td>2101839616@viaapp.io</td>\n",
       "      <td>MARIA ZULEIDE DA COSTA XAVIER</td>\n",
       "      <td>True</td>\n",
       "    </tr>\n",
       "    <tr>\n",
       "      <th>4</th>\n",
       "      <td>NO</td>\n",
       "      <td>student</td>\n",
       "      <td>2104908007</td>\n",
       "      <td>4908007</td>\n",
       "      <td>1248777</td>\n",
       "      <td>REGINA ZORRILLA</td>\n",
       "      <td>CONS ADM LOJA</td>\n",
       "      <td>14.12.1985</td>\n",
       "      <td>02276304162</td>\n",
       "      <td>CAL</td>\n",
       "      <td>...</td>\n",
       "      <td>@viaapp.io</td>\n",
       "      <td>2104908007@viaapp.io</td>\n",
       "      <td>21</td>\n",
       "      <td>#Via//DIR04//CAL//Sistema Prove//Nova Galeria/...</td>\n",
       "      <td>04</td>\n",
       "      <td>Ponto Online//CAL//Sistema Prove//Nova Galeria...</td>\n",
       "      <td>student</td>\n",
       "      <td>2104908007@viaapp.io</td>\n",
       "      <td>REGINA ZORRILLA</td>\n",
       "      <td>True</td>\n",
       "    </tr>\n",
       "  </tbody>\n",
       "</table>\n",
       "<p>5 rows × 48 columns</p>\n",
       "</div>"
      ],
      "text/plain": [
       "      action     role    username matricula  user_id  \\\n",
       "0         NO  student  2104482816   4482816   953877   \n",
       "1  OVERWRITE  student  2100240095    240095   285815   \n",
       "2         NO  student  2100240095    240095   285815   \n",
       "3         NO  student  2101839616   1839616   402426   \n",
       "4         NO  student  2104908007   4908007  1248777   \n",
       "\n",
       "                            name               cargo  nascimento          cpf  \\\n",
       "0           ALINE ZUVERANA GOMES  ASSESSOR DE VENDAS  10.08.1987  07716689614   \n",
       "1       FRANCISCA ZULENE DE MELO    VENDEDOR INTERNO  30.06.1978  08084588761   \n",
       "2       FRANCISCA ZULENE DE MELO    VENDEDOR INTERNO  30.06.1978  08084588761   \n",
       "3  MARIA ZULEIDE DA COSTA XAVIER               CAIXA  27.04.1967  35711167391   \n",
       "4                REGINA ZORRILLA       CONS ADM LOJA  14.12.1985  02276304162   \n",
       "\n",
       "  TIME_GALERIA  ...  email_base                 email cod  \\\n",
       "0    #Vendedor  ...  @viaapp.io  2104482816@viaapp.io  21   \n",
       "1    #Vendedor  ...  @viaapp.io  2100240095@viaapp.io  21   \n",
       "2    #Vendedor  ...  @viaapp.io  2100240095@viaapp.io  21   \n",
       "3        Caixa  ...  @viaapp.io  2101839616@viaapp.io  21   \n",
       "4          CAL  ...  @viaapp.io  2104908007@viaapp.io  21   \n",
       "\n",
       "                                               teams Diretoria  \\\n",
       "0  #Via//DIR04//#Vendedor//Sistema Prove//Tecnolo...        04   \n",
       "1  #Via//DIR02//#Vendedor//Sistema Prove//Linha L...        02   \n",
       "2  #Via//DIR02//#Vendedor//Sistema Prove//Linha B...        02   \n",
       "3  #Via//DIR07//Caixa//Sistema Prove//Nova Galeri...        07   \n",
       "4  #Via//DIR04//CAL//Sistema Prove//Nova Galeria/...        04   \n",
       "\n",
       "                                                team role_ant  \\\n",
       "0  Tecnologia//#CasasBahia//Ponto Online//DIR04//...  student   \n",
       "1  Nova Galeria//#CasasBahia//Pague Lojas//#Via//...  student   \n",
       "2  Nova Galeria//#CasasBahia//Pague Lojas//#Via//...  student   \n",
       "3  Nova Galeria//#Via//DIR07//Caixa//Ponto Online...  student   \n",
       "4  Ponto Online//CAL//Sistema Prove//Nova Galeria...  student   \n",
       "\n",
       "              email_ant                       name_ant check_update  \n",
       "0  2104482816@viaapp.io           ALINE ZUVERANA GOMES         True  \n",
       "1  2100240095@viaapp.io       FRANCISCA ZULENE DE MELO         True  \n",
       "2  2100240095@viaapp.io       FRANCISCA ZULENE DE MELO         True  \n",
       "3  2101839616@viaapp.io  MARIA ZULEIDE DA COSTA XAVIER         True  \n",
       "4  2104908007@viaapp.io                REGINA ZORRILLA         True  \n",
       "\n",
       "[5 rows x 48 columns]"
      ]
     },
     "execution_count": 1633,
     "metadata": {},
     "output_type": "execute_result"
    }
   ],
   "source": [
    "df_usuarios.head(5)"
   ]
  },
  {
   "cell_type": "code",
   "execution_count": null,
   "id": "acad1ae6",
   "metadata": {},
   "outputs": [],
   "source": []
  },
  {
   "cell_type": "code",
   "execution_count": null,
   "id": "9e5eff5a",
   "metadata": {},
   "outputs": [],
   "source": []
  },
  {
   "cell_type": "code",
   "execution_count": null,
   "id": "90d7a8b1",
   "metadata": {},
   "outputs": [],
   "source": []
  },
  {
   "cell_type": "code",
   "execution_count": 1634,
   "id": "52fbeb6a",
   "metadata": {},
   "outputs": [],
   "source": [
    "#print(df_usuarios['action'].value_counts())"
   ]
  },
  {
   "cell_type": "code",
   "execution_count": 1635,
   "id": "29589ab6",
   "metadata": {},
   "outputs": [
    {
     "data": {
      "text/plain": [
       "(33690, 48)"
      ]
     },
     "execution_count": 1635,
     "metadata": {},
     "output_type": "execute_result"
    }
   ],
   "source": [
    "df_usuarios.shape"
   ]
  },
  {
   "cell_type": "code",
   "execution_count": 1636,
   "id": "54df7043",
   "metadata": {
    "ExecuteTime": {
     "end_time": "2023-03-09T12:21:55.714532Z",
     "start_time": "2023-03-09T12:21:55.638010Z"
    }
   },
   "outputs": [],
   "source": [
    "#Atualizando os admins\n",
    "df_usuarios['role'] = np.where(df_usuarios['role_ant'] == 'admin', 'admin',df_usuarios['role'] )\n",
    "df_usuarios['teams'] = np.where(df_usuarios['role_ant'] == 'admin', df_usuarios['teams'] + '//#ADM',df_usuarios['teams'] )\n",
    "df_usuarios['email'] = np.where((df_usuarios['email_ant'] != df_usuarios['email'])&(df_usuarios['role_ant'] == 'admin') , df_usuarios['email_ant'],df_usuarios['email'])\n",
    "df_usuarios['name'] = np.where((df_usuarios['name_ant'] != df_usuarios['name'])&(df_usuarios['role_ant'] == 'admin') , df_usuarios['name_ant'],df_usuarios['name'])"
   ]
  },
  {
   "cell_type": "code",
   "execution_count": 1637,
   "id": "99acb963",
   "metadata": {},
   "outputs": [
    {
     "data": {
      "text/plain": [
       "(33690, 48)"
      ]
     },
     "execution_count": 1637,
     "metadata": {},
     "output_type": "execute_result"
    }
   ],
   "source": [
    "df_usuarios.shape"
   ]
  },
  {
   "cell_type": "code",
   "execution_count": 1638,
   "id": "456b42aa",
   "metadata": {
    "ExecuteTime": {
     "end_time": "2023-03-09T12:21:55.761533Z",
     "start_time": "2023-03-09T12:21:55.717532Z"
    }
   },
   "outputs": [],
   "source": [
    "#Filtrando apenas quem tem action e ajustando o id para o Overwrite\n",
    "df_usuarios['action'] = df_usuarios['action'].replace(\"\", \"NO\")\n",
    "df_usuarios = df_usuarios[df_usuarios['action'] != 'NO']\n",
    "\n",
    "df_usuarios = df_usuarios.rename(columns = {'user_id': 'id'})\n",
    "\n",
    "df_usuarios['id'] = np.where(df_usuarios['action'] == 'OVERWRITE', df_usuarios['username'], '')"
   ]
  },
  {
   "cell_type": "code",
   "execution_count": 1639,
   "id": "545aab5e",
   "metadata": {},
   "outputs": [
    {
     "data": {
      "text/plain": [
       "(2734, 48)"
      ]
     },
     "execution_count": 1639,
     "metadata": {},
     "output_type": "execute_result"
    }
   ],
   "source": [
    "df_usuarios.shape"
   ]
  },
  {
   "cell_type": "code",
   "execution_count": 1640,
   "id": "dc839129",
   "metadata": {
    "ExecuteTime": {
     "end_time": "2023-03-09T12:21:55.792535Z",
     "start_time": "2023-03-09T12:21:55.764549Z"
    }
   },
   "outputs": [],
   "source": [
    "##Aplicando padrão\n",
    "df_usuarios['leaders'] = \"\"\n",
    "\n",
    "df_usuarios['language'] = \"pt-BR\"\n",
    "\n",
    "df_usuarios['regional'] = df_usuarios['regional'].astype(str)\n",
    "\n",
    "df_usuarios['cargo'] = df_usuarios['cargo'].astype(str)\n",
    "\n",
    "df_usuarios = df_usuarios[['action', 'id','username', 'email', 'name', 'role', 'password','teams', 'leaders','language', 'regional','cargo']]"
   ]
  },
  {
   "cell_type": "code",
   "execution_count": 1641,
   "id": "63f45cd8",
   "metadata": {
    "ExecuteTime": {
     "end_time": "2023-03-09T12:21:55.916015Z",
     "start_time": "2023-03-09T12:21:55.795533Z"
    }
   },
   "outputs": [],
   "source": [
    "#Comparando a base para trazer quem deve entrar no time Excluir\n",
    "df_user_id = df_user_id.merge(df_Oficial_fun[['username', 'User_id']], on = 'username', how = 'left')\n",
    "df_user_id = df_user_id[df_user_id['User_id'].isnull()]\n",
    "df_user_id = df_user_id[['username', 'name', 'email', 'role']]\n",
    "df_user_id = df_user_id[df_user_id['role'] != 'admin']\n",
    "\n",
    "df_user_id['action'] = 'OVERWRITE'\n",
    "df_user_id['id'] = df_user_id['username']\n",
    "df_user_id['password'] = 'exclui'\n",
    "df_user_id['teams'] = 'Excluir'\n",
    "df_user_id['leaders'] = ''\n",
    "df_user_id['language'] = \"pt-BR\"\n",
    "df_user_id['regional'] = '-'\n",
    "df_user_id['cargo'] = '-'\n",
    "\n",
    "df_user_id = df_user_id[['action', 'id','username', 'email', 'name', 'role', 'password','teams', 'leaders','language', 'regional','cargo']]"
   ]
  },
  {
   "cell_type": "code",
   "execution_count": 1642,
   "id": "c4de68a0",
   "metadata": {
    "ExecuteTime": {
     "end_time": "2023-03-09T12:21:55.931933Z",
     "start_time": "2023-03-09T12:21:55.919687Z"
    }
   },
   "outputs": [],
   "source": [
    "df_user_id = df_user_id[df_user_id['role'] == 'student']"
   ]
  },
  {
   "cell_type": "code",
   "execution_count": 1643,
   "id": "414cc014",
   "metadata": {
    "ExecuteTime": {
     "end_time": "2023-03-09T12:21:55.946828Z",
     "start_time": "2023-03-09T12:21:55.935146Z"
    }
   },
   "outputs": [],
   "source": [
    "df_usuarios = pd.concat([df_usuarios, df_user_id], axis = 0, ignore_index=True)"
   ]
  },
  {
   "cell_type": "code",
   "execution_count": 1644,
   "id": "9d53aa72",
   "metadata": {
    "ExecuteTime": {
     "end_time": "2023-03-09T12:21:55.961835Z",
     "start_time": "2023-03-09T12:21:55.949819Z"
    }
   },
   "outputs": [
    {
     "data": {
      "text/plain": [
       "(8794, 12)"
      ]
     },
     "execution_count": 1644,
     "metadata": {},
     "output_type": "execute_result"
    }
   ],
   "source": [
    "df_usuarios.shape"
   ]
  },
  {
   "cell_type": "code",
   "execution_count": 1645,
   "id": "e29aee5a",
   "metadata": {
    "ExecuteTime": {
     "end_time": "2023-03-09T12:21:55.977234Z",
     "start_time": "2023-03-09T12:21:55.965828Z"
    }
   },
   "outputs": [
    {
     "data": {
      "text/plain": [
       "8706"
      ]
     },
     "execution_count": 1645,
     "metadata": {},
     "output_type": "execute_result"
    }
   ],
   "source": [
    "df_usuarios['username'].nunique()"
   ]
  },
  {
   "cell_type": "code",
   "execution_count": 1646,
   "id": "8254b142",
   "metadata": {},
   "outputs": [],
   "source": [
    "if df_cadastro_manual.shape[0] > 0:\n",
    "    df_usuarios = pd.concat([df_usuarios, df_cadastro_manual], axis = 0, ignore_index=True)\n",
    "    df_usuarios = df_usuarios.replace(np.nan, '')"
   ]
  },
  {
   "cell_type": "code",
   "execution_count": 1647,
   "id": "b461f33b",
   "metadata": {},
   "outputs": [],
   "source": [
    "#tirando usuários que já estão como excluir na skore"
   ]
  },
  {
   "cell_type": "code",
   "execution_count": 1648,
   "id": "bd672c02",
   "metadata": {},
   "outputs": [],
   "source": [
    "df_user_skore = pd.read_csv('./input/{}/username_userid.csv'.format(MONTH), sep = ';',encoding = 'latin-1')"
   ]
  },
  {
   "cell_type": "code",
   "execution_count": 1649,
   "id": "7d2bb975",
   "metadata": {},
   "outputs": [],
   "source": [
    "df_excluir = pd.merge(df_usuarios, df_user_skore, on = 'username', how='left' )"
   ]
  },
  {
   "cell_type": "code",
   "execution_count": 1650,
   "id": "47ef7d1a",
   "metadata": {},
   "outputs": [],
   "source": [
    "df_excluir['excluir_ajuste'] = np.where((df_excluir['teams'] =='Excluir') & (df_excluir['team']=='Excluir'),'duplicado','ok')"
   ]
  },
  {
   "cell_type": "code",
   "execution_count": 1651,
   "id": "b5d108d7",
   "metadata": {},
   "outputs": [],
   "source": [
    "df_excluir = df_excluir[['action', 'id_x', 'username', 'email_x','name_x','role_x', 'password', 'teams', 'leaders', 'language', 'regional', 'cargo', 'excluir_ajuste']]"
   ]
  },
  {
   "cell_type": "code",
   "execution_count": 1652,
   "id": "110f390a",
   "metadata": {},
   "outputs": [],
   "source": [
    "df_excluir = df_excluir.rename(columns = {'id_x':'id',\n",
    "                                          'email_x': 'email',\n",
    "                                          'name_x': 'name',\n",
    "                                          'role_x': 'role'\n",
    "                                         })"
   ]
  },
  {
   "cell_type": "code",
   "execution_count": 1653,
   "id": "7445c693",
   "metadata": {},
   "outputs": [],
   "source": [
    "df_duplicados_excluir = df_excluir[df_excluir['excluir_ajuste']=='duplicado']"
   ]
  },
  {
   "cell_type": "code",
   "execution_count": 1654,
   "id": "3d54ca84",
   "metadata": {},
   "outputs": [],
   "source": [
    "df_duplicados_excluir.to_excel('./output/excluir/df_usuarios_excluidos_skore.xlsx', index=False)"
   ]
  },
  {
   "cell_type": "code",
   "execution_count": 1655,
   "id": "7258aaac",
   "metadata": {},
   "outputs": [],
   "source": [
    "df_usuarios = df_excluir[df_excluir['excluir_ajuste']=='ok']"
   ]
  },
  {
   "cell_type": "code",
   "execution_count": 1656,
   "id": "47990023",
   "metadata": {},
   "outputs": [],
   "source": [
    "df_usuarios = df_usuarios.drop('excluir_ajuste', axis =1)"
   ]
  },
  {
   "cell_type": "code",
   "execution_count": 1657,
   "id": "b7046f4f",
   "metadata": {},
   "outputs": [],
   "source": [
    "df_usuarios = df_usuarios.sort_values(by=['action'],ascending=[True])"
   ]
  },
  {
   "cell_type": "code",
   "execution_count": 1658,
   "id": "eb5e2097",
   "metadata": {},
   "outputs": [],
   "source": [
    "#tirando usuários que não tiveram mudança no time"
   ]
  },
  {
   "cell_type": "code",
   "execution_count": 1659,
   "id": "787f8156",
   "metadata": {},
   "outputs": [],
   "source": [
    "df_user_skore = pd.read_csv('./input/{}/username_userid.csv'.format(MONTH), sep = ';',encoding = 'latin-1')"
   ]
  },
  {
   "cell_type": "code",
   "execution_count": 1660,
   "id": "e4440adf",
   "metadata": {},
   "outputs": [],
   "source": [
    "df_usuarios_overwrite = df_usuarios.merge(df_user_skore, on = 'username', how='left')"
   ]
  },
  {
   "cell_type": "code",
   "execution_count": 1661,
   "id": "e37e196f",
   "metadata": {},
   "outputs": [],
   "source": [
    "v = np.sort(df_usuarios_overwrite.teams.str.split('//', expand=True).fillna(''), axis=1)\n",
    "df_sort = pd.DataFrame(v).agg('//'.join, 1).str.strip('//')\n",
    "df_usuarios_overwrite['teams'] = df_sort"
   ]
  },
  {
   "cell_type": "code",
   "execution_count": 1662,
   "id": "89ab8107",
   "metadata": {},
   "outputs": [],
   "source": [
    "v = np.sort(df_usuarios_overwrite.team.str.split('//', expand=True).fillna(''), axis=1)\n",
    "df_sort = pd.DataFrame(v).agg('//'.join, 1).str.strip('//')\n",
    "df_usuarios_overwrite['team'] = df_sort"
   ]
  },
  {
   "cell_type": "code",
   "execution_count": 1663,
   "id": "0245d59b",
   "metadata": {},
   "outputs": [],
   "source": [
    "df_usuarios_overwrite['teams'] = df_usuarios_overwrite['teams'].str.replace('//BVBV Vendas CB//BVBV Vendas CB//','//BVBV Vendas CB//')\n",
    "df_usuarios_overwrite['teams'] = df_usuarios_overwrite['teams'].str.replace('//BVBV Atendimento CB//BVBV Atendimento CB//','//BVBV Atendimento CB//')\n",
    "df_usuarios_overwrite['teams'] = df_usuarios_overwrite['teams'].str.replace('//BVBV Vendas PT//BVBV Vendas PT//','//BVBV Vendas PT//')\n",
    "df_usuarios_overwrite['teams'] = df_usuarios_overwrite['teams'].str.replace('//BVBV Atendimento PT//BVBV Atendimento PT//','//BVBV Atendimento PT//')"
   ]
  },
  {
   "cell_type": "code",
   "execution_count": 1664,
   "id": "d286b581",
   "metadata": {},
   "outputs": [],
   "source": [
    "df_usuarios_overwrite['teams'] = df_usuarios_overwrite['teams'].str.replace('CORP', 'Corp', regex=True)"
   ]
  },
  {
   "cell_type": "code",
   "execution_count": 1665,
   "id": "4cdbb818",
   "metadata": {},
   "outputs": [],
   "source": [
    "df_usuarios_overwrite['team_aux'] = np.where(df_usuarios_overwrite['team']==df_usuarios_overwrite['teams'],'igual',0)"
   ]
  },
  {
   "cell_type": "code",
   "execution_count": 1666,
   "id": "78587d0a",
   "metadata": {},
   "outputs": [],
   "source": [
    "df_usuarios_overwrite = df_usuarios_overwrite[df_usuarios_overwrite['team_aux']=='0']"
   ]
  },
  {
   "cell_type": "code",
   "execution_count": 1667,
   "id": "27e34a30",
   "metadata": {},
   "outputs": [],
   "source": [
    "df_usuarios = df_usuarios_overwrite[['action','id_x', 'username','email_x','name_x','role_x','password','teams','leaders','language','regional','cargo']]"
   ]
  },
  {
   "cell_type": "code",
   "execution_count": 1668,
   "id": "cda7690c",
   "metadata": {},
   "outputs": [],
   "source": [
    "df_usuarios = df_usuarios.rename(columns={'id_x': 'id', 'email_x': 'email', 'name_x': 'name', 'role_x':'role'})"
   ]
  },
  {
   "cell_type": "code",
   "execution_count": 1669,
   "id": "b2ec9a05",
   "metadata": {},
   "outputs": [],
   "source": [
    "###particionar arquivo"
   ]
  },
  {
   "cell_type": "code",
   "execution_count": 1670,
   "id": "46f0425f",
   "metadata": {},
   "outputs": [],
   "source": [
    "# if particoes.lower() == 'sim' or particoes.lower() == 's':\n",
    "#     quantidade = int(input('Qual o intervalo das particoes ? '))\n",
    "#     part = df_usuarios.shape[0]/quantidade\n",
    "#     dfs = np.array_split(df_usuarios, part)\n",
    "#     part = int(part)\n",
    "# else:\n",
    "#     part = 0\n",
    "    \n",
    "# i = 0\n",
    "# while i < part:\n",
    "#     dfs[i].to_csv('./output/usuarios_prove_{}{}.csv'.format(TODAY, [i]), index = False, encoding = 'Utf-8')\n",
    "#     i += 1"
   ]
  },
  {
   "cell_type": "code",
   "execution_count": 1671,
   "id": "7ede0e52",
   "metadata": {},
   "outputs": [],
   "source": [
    "df_usuarios.to_csv('./output/usuarios_prove_{}.csv'.format(TODAY), index = False, encoding = 'Utf-8')"
   ]
  },
  {
   "cell_type": "code",
   "execution_count": null,
   "id": "279bbce0",
   "metadata": {},
   "outputs": [],
   "source": []
  }
 ],
 "metadata": {
  "kernelspec": {
   "display_name": "Python 3 (ipykernel)",
   "language": "python",
   "name": "python3"
  },
  "language_info": {
   "codemirror_mode": {
    "name": "ipython",
    "version": 3
   },
   "file_extension": ".py",
   "mimetype": "text/x-python",
   "name": "python",
   "nbconvert_exporter": "python",
   "pygments_lexer": "ipython3",
   "version": "3.9.12"
  },
  "toc": {
   "base_numbering": 1,
   "nav_menu": {},
   "number_sections": true,
   "sideBar": true,
   "skip_h1_title": false,
   "title_cell": "Table of Contents",
   "title_sidebar": "Contents",
   "toc_cell": false,
   "toc_position": {},
   "toc_section_display": true,
   "toc_window_display": false
  }
 },
 "nbformat": 4,
 "nbformat_minor": 5
}
